{
 "cells": [
  {
   "cell_type": "markdown",
   "id": "bf62b6b0-98b3-4f1a-b7c5-f5a173debe5e",
   "metadata": {},
   "source": [
    "# Logistic Regression"
   ]
  },
  {
   "cell_type": "markdown",
   "id": "40df0b9d-07f3-46b9-a862-26d6fbca69d0",
   "metadata": {},
   "source": [
    "## Exercises\n",
    "In these exercises, we'll continue working with the titanic dataset and building logistic regression models. Throughout this exercise, be sure you are training, evaluation, and comparing models on the train and validate datasets. The test dataset should only be used for your final model.\n",
    "\n",
    "For all of the models you create, choose a threshold that optimizes for accuracy.\n",
    "\n",
    "Create a new notebook, logistic_regression, use it to answer the following questions:"
   ]
  },
  {
   "cell_type": "markdown",
   "id": "71fd3158-8978-416f-901a-6011ee9dfd42",
   "metadata": {},
   "source": [
    "## Imports"
   ]
  },
  {
   "cell_type": "code",
   "execution_count": 1,
   "id": "03a6df44-0393-4b87-9968-27478c4e8e3c",
   "metadata": {},
   "outputs": [],
   "source": [
    "import acquire\n",
    "import prepare\n",
    "\n",
    "import numpy as np\n",
    "import pandas as pd\n",
    "\n",
    "from sklearn.model_selection import train_test_split\n",
    "from sklearn.linear_model import LogisticRegression\n",
    "from sklearn.metrics import classification_report\n",
    "from sklearn.metrics import confusion_matrix\n",
    "\n",
    "# ignore warnings\n",
    "import warnings\n",
    "warnings.filterwarnings(\"ignore\")\n",
    "\n",
    "%matplotlib inline\n",
    "import matplotlib.pyplot as plt\n",
    "import seaborn as sns\n",
    "\n",
    "from pydataset import data"
   ]
  },
  {
   "cell_type": "markdown",
   "id": "5e79f809-358e-402a-875d-78de345ced87",
   "metadata": {},
   "source": [
    "#### Acquire, Prep, Slipt and find the baseline"
   ]
  },
  {
   "cell_type": "code",
   "execution_count": 2,
   "id": "d6ad0153-380b-46bd-abbe-2b0109c0d995",
   "metadata": {},
   "outputs": [
    {
     "name": "stdout",
     "output_type": "stream",
     "text": [
      "csv file found and loaded\n",
      "train:      survived  pclass   age      fare\n",
      "455         1       3  29.0    7.8958\n",
      "380         1       1  42.0  227.5250\n",
      "\n",
      "validate:      survived  pclass   age     fare\n",
      "176         0       3   0.0  25.4667\n",
      "372         0       3  19.0   8.0500\n",
      "\n",
      "test:      survived  pclass   age     fare\n",
      "561         0       3  40.0   7.8958\n",
      "641         1       1  24.0  69.3000\n",
      "\n",
      "X_train:      pclass   age      fare\n",
      "455       3  29.0    7.8958\n",
      "380       1  42.0  227.5250\n",
      "\n",
      "X_train: (534, 3), X_validate: (178, 3), X_test: (179, 3)\n",
      "Baseline accuracy: 0.6161048689138576\n"
     ]
    }
   ],
   "source": [
    "# Get your titanic data\n",
    "titanic2_df = acquire.get_titanic_data()\n",
    "\n",
    "# Clean the new dataset using the new function called prep_titanic\n",
    "titanic2_df = prepare.prep_titanic2(titanic2_df)\n",
    "\n",
    "# Prepare and Split my data\n",
    "train2, validate2, test2 = prepare.split_function(titanic2_df, 'survived')\n",
    "print(f'train: {train2.head(2)}\\n')\n",
    "print(f'validate: {validate2.head(2)}\\n')\n",
    "print(f'test: {test2.head(2)}\\n')\n",
    "\n",
    "# ---------------------------------------------------------------------------------\n",
    "# Lets drop 'passenger_id', 'survived', 'sex', 'embarked' because they either are objects or don't add value to the data.\n",
    "# Also, we need to remove the 'survived' column because is our TARGET.\n",
    "# Also, lets convert train, validate and test. \n",
    "X_train2 = train2.drop(columns = ['survived'])\n",
    "X_validate2 = validate2.drop(columns = ['survived'])\n",
    "X_test2 = test2.drop(columns = ['survived'])\n",
    "print(f'X_train: {X_train2.head(2)}\\n')\n",
    "# ---------------------------------------------------------------------------------\n",
    "# Set a target\n",
    "target = 'survived'\n",
    "\n",
    "# 'y' variable are series\n",
    "y_train2 = train2[target]\n",
    "y_validate2 = validate2[target]\n",
    "y_test2 = test2[target]\n",
    "\n",
    "# Check the shape\n",
    "print(f'X_train: {X_train2.shape}, X_validate: {X_validate2.shape}, X_test: {X_test2.shape}')\n",
    "\n",
    "# ---------------------------------------------------------------------------------\n",
    "# calculate baseline accuracy\n",
    "def establish_baseline(y_train2):\n",
    "    #est baseline\n",
    "    baseline_prediction2 = y_train2.mode()\n",
    "    \n",
    "    #create series of prediction with that baseline val\n",
    "    #same len as y_train\n",
    "    y_train_pred2 = pd.Series((baseline_prediction2[0]), range(len(y_train2)))\n",
    "    \n",
    "    #compute the confusion matrix for Accuracy\n",
    "    cm2= confusion_matrix(y_train2, y_train_pred2)\n",
    "    tn, fp, fn, tp = cm.ravel()\n",
    "    \n",
    "    accuracy = (tp+tn) / (tp+tn+fp+fn)\n",
    "    \n",
    "    return accuracy\n",
    "\n",
    "# write a function to compute the baseline for a classification model\n",
    "\n",
    "def establish_baseline(y_train2):\n",
    "    #  establish the value we will predict for all observations\n",
    "    baseline_prediction2 = y_train2.mode()\n",
    "\n",
    "    # create a series of predictions with that value, \n",
    "    # the same length as our training set\n",
    "    y_train_pred2 = pd.Series((baseline_prediction2[0]), range(len(y_train2)))\n",
    "\n",
    "    # compute accuracy of baseline\n",
    "    cm2 = confusion_matrix(y_train2, y_train_pred2)\n",
    "    tn, fp, fn, tp = cm2.ravel()\n",
    "\n",
    "    accuracy = (tp+tn)/(tn+fp+fn+tp)\n",
    "    return accuracy\n",
    "\n",
    "    \n",
    "print(f'Baseline accuracy: {establish_baseline(y_train2)}')"
   ]
  },
  {
   "cell_type": "markdown",
   "id": "4e8b4f02-5581-4490-81ec-18fd662e88fb",
   "metadata": {},
   "source": [
    "### 1. Create a model that includes only age, fare, and pclass. Does this model perform better than your baseline?"
   ]
  },
  {
   "cell_type": "markdown",
   "id": "8a9a38b5-af62-42e2-a730-8d2cb783ac0d",
   "metadata": {},
   "source": [
    "#### a. Creat it"
   ]
  },
  {
   "cell_type": "code",
   "execution_count": 3,
   "id": "080c4d5f-961e-43d9-aa77-aba481bef93c",
   "metadata": {},
   "outputs": [
    {
     "data": {
      "text/html": [
       "<style>#sk-container-id-1 {color: black;background-color: white;}#sk-container-id-1 pre{padding: 0;}#sk-container-id-1 div.sk-toggleable {background-color: white;}#sk-container-id-1 label.sk-toggleable__label {cursor: pointer;display: block;width: 100%;margin-bottom: 0;padding: 0.3em;box-sizing: border-box;text-align: center;}#sk-container-id-1 label.sk-toggleable__label-arrow:before {content: \"▸\";float: left;margin-right: 0.25em;color: #696969;}#sk-container-id-1 label.sk-toggleable__label-arrow:hover:before {color: black;}#sk-container-id-1 div.sk-estimator:hover label.sk-toggleable__label-arrow:before {color: black;}#sk-container-id-1 div.sk-toggleable__content {max-height: 0;max-width: 0;overflow: hidden;text-align: left;background-color: #f0f8ff;}#sk-container-id-1 div.sk-toggleable__content pre {margin: 0.2em;color: black;border-radius: 0.25em;background-color: #f0f8ff;}#sk-container-id-1 input.sk-toggleable__control:checked~div.sk-toggleable__content {max-height: 200px;max-width: 100%;overflow: auto;}#sk-container-id-1 input.sk-toggleable__control:checked~label.sk-toggleable__label-arrow:before {content: \"▾\";}#sk-container-id-1 div.sk-estimator input.sk-toggleable__control:checked~label.sk-toggleable__label {background-color: #d4ebff;}#sk-container-id-1 div.sk-label input.sk-toggleable__control:checked~label.sk-toggleable__label {background-color: #d4ebff;}#sk-container-id-1 input.sk-hidden--visually {border: 0;clip: rect(1px 1px 1px 1px);clip: rect(1px, 1px, 1px, 1px);height: 1px;margin: -1px;overflow: hidden;padding: 0;position: absolute;width: 1px;}#sk-container-id-1 div.sk-estimator {font-family: monospace;background-color: #f0f8ff;border: 1px dotted black;border-radius: 0.25em;box-sizing: border-box;margin-bottom: 0.5em;}#sk-container-id-1 div.sk-estimator:hover {background-color: #d4ebff;}#sk-container-id-1 div.sk-parallel-item::after {content: \"\";width: 100%;border-bottom: 1px solid gray;flex-grow: 1;}#sk-container-id-1 div.sk-label:hover label.sk-toggleable__label {background-color: #d4ebff;}#sk-container-id-1 div.sk-serial::before {content: \"\";position: absolute;border-left: 1px solid gray;box-sizing: border-box;top: 0;bottom: 0;left: 50%;z-index: 0;}#sk-container-id-1 div.sk-serial {display: flex;flex-direction: column;align-items: center;background-color: white;padding-right: 0.2em;padding-left: 0.2em;position: relative;}#sk-container-id-1 div.sk-item {position: relative;z-index: 1;}#sk-container-id-1 div.sk-parallel {display: flex;align-items: stretch;justify-content: center;background-color: white;position: relative;}#sk-container-id-1 div.sk-item::before, #sk-container-id-1 div.sk-parallel-item::before {content: \"\";position: absolute;border-left: 1px solid gray;box-sizing: border-box;top: 0;bottom: 0;left: 50%;z-index: -1;}#sk-container-id-1 div.sk-parallel-item {display: flex;flex-direction: column;z-index: 1;position: relative;background-color: white;}#sk-container-id-1 div.sk-parallel-item:first-child::after {align-self: flex-end;width: 50%;}#sk-container-id-1 div.sk-parallel-item:last-child::after {align-self: flex-start;width: 50%;}#sk-container-id-1 div.sk-parallel-item:only-child::after {width: 0;}#sk-container-id-1 div.sk-dashed-wrapped {border: 1px dashed gray;margin: 0 0.4em 0.5em 0.4em;box-sizing: border-box;padding-bottom: 0.4em;background-color: white;}#sk-container-id-1 div.sk-label label {font-family: monospace;font-weight: bold;display: inline-block;line-height: 1.2em;}#sk-container-id-1 div.sk-label-container {text-align: center;}#sk-container-id-1 div.sk-container {/* jupyter's `normalize.less` sets `[hidden] { display: none; }` but bootstrap.min.css set `[hidden] { display: none !important; }` so we also need the `!important` here to be able to override the default hidden behavior on the sphinx rendered scikit-learn.org. See: https://github.com/scikit-learn/scikit-learn/issues/21755 */display: inline-block !important;position: relative;}#sk-container-id-1 div.sk-text-repr-fallback {display: none;}</style><div id=\"sk-container-id-1\" class=\"sk-top-container\"><div class=\"sk-text-repr-fallback\"><pre>LogisticRegression()</pre><b>In a Jupyter environment, please rerun this cell to show the HTML representation or trust the notebook. <br />On GitHub, the HTML representation is unable to render, please try loading this page with nbviewer.org.</b></div><div class=\"sk-container\" hidden><div class=\"sk-item\"><div class=\"sk-estimator sk-toggleable\"><input class=\"sk-toggleable__control sk-hidden--visually\" id=\"sk-estimator-id-1\" type=\"checkbox\" checked><label for=\"sk-estimator-id-1\" class=\"sk-toggleable__label sk-toggleable__label-arrow\">LogisticRegression</label><div class=\"sk-toggleable__content\"><pre>LogisticRegression()</pre></div></div></div></div></div>"
      ],
      "text/plain": [
       "LogisticRegression()"
      ]
     },
     "execution_count": 3,
     "metadata": {},
     "output_type": "execute_result"
    }
   ],
   "source": [
    "logit = LogisticRegression()\n",
    "logit"
   ]
  },
  {
   "cell_type": "markdown",
   "id": "279092e9-293d-4a2f-b829-1ecf6483e4af",
   "metadata": {},
   "source": [
    "#### b. Fit it"
   ]
  },
  {
   "cell_type": "code",
   "execution_count": 4,
   "id": "76596016-fd11-41ce-8d7a-770797d699da",
   "metadata": {},
   "outputs": [
    {
     "data": {
      "text/html": [
       "<style>#sk-container-id-2 {color: black;background-color: white;}#sk-container-id-2 pre{padding: 0;}#sk-container-id-2 div.sk-toggleable {background-color: white;}#sk-container-id-2 label.sk-toggleable__label {cursor: pointer;display: block;width: 100%;margin-bottom: 0;padding: 0.3em;box-sizing: border-box;text-align: center;}#sk-container-id-2 label.sk-toggleable__label-arrow:before {content: \"▸\";float: left;margin-right: 0.25em;color: #696969;}#sk-container-id-2 label.sk-toggleable__label-arrow:hover:before {color: black;}#sk-container-id-2 div.sk-estimator:hover label.sk-toggleable__label-arrow:before {color: black;}#sk-container-id-2 div.sk-toggleable__content {max-height: 0;max-width: 0;overflow: hidden;text-align: left;background-color: #f0f8ff;}#sk-container-id-2 div.sk-toggleable__content pre {margin: 0.2em;color: black;border-radius: 0.25em;background-color: #f0f8ff;}#sk-container-id-2 input.sk-toggleable__control:checked~div.sk-toggleable__content {max-height: 200px;max-width: 100%;overflow: auto;}#sk-container-id-2 input.sk-toggleable__control:checked~label.sk-toggleable__label-arrow:before {content: \"▾\";}#sk-container-id-2 div.sk-estimator input.sk-toggleable__control:checked~label.sk-toggleable__label {background-color: #d4ebff;}#sk-container-id-2 div.sk-label input.sk-toggleable__control:checked~label.sk-toggleable__label {background-color: #d4ebff;}#sk-container-id-2 input.sk-hidden--visually {border: 0;clip: rect(1px 1px 1px 1px);clip: rect(1px, 1px, 1px, 1px);height: 1px;margin: -1px;overflow: hidden;padding: 0;position: absolute;width: 1px;}#sk-container-id-2 div.sk-estimator {font-family: monospace;background-color: #f0f8ff;border: 1px dotted black;border-radius: 0.25em;box-sizing: border-box;margin-bottom: 0.5em;}#sk-container-id-2 div.sk-estimator:hover {background-color: #d4ebff;}#sk-container-id-2 div.sk-parallel-item::after {content: \"\";width: 100%;border-bottom: 1px solid gray;flex-grow: 1;}#sk-container-id-2 div.sk-label:hover label.sk-toggleable__label {background-color: #d4ebff;}#sk-container-id-2 div.sk-serial::before {content: \"\";position: absolute;border-left: 1px solid gray;box-sizing: border-box;top: 0;bottom: 0;left: 50%;z-index: 0;}#sk-container-id-2 div.sk-serial {display: flex;flex-direction: column;align-items: center;background-color: white;padding-right: 0.2em;padding-left: 0.2em;position: relative;}#sk-container-id-2 div.sk-item {position: relative;z-index: 1;}#sk-container-id-2 div.sk-parallel {display: flex;align-items: stretch;justify-content: center;background-color: white;position: relative;}#sk-container-id-2 div.sk-item::before, #sk-container-id-2 div.sk-parallel-item::before {content: \"\";position: absolute;border-left: 1px solid gray;box-sizing: border-box;top: 0;bottom: 0;left: 50%;z-index: -1;}#sk-container-id-2 div.sk-parallel-item {display: flex;flex-direction: column;z-index: 1;position: relative;background-color: white;}#sk-container-id-2 div.sk-parallel-item:first-child::after {align-self: flex-end;width: 50%;}#sk-container-id-2 div.sk-parallel-item:last-child::after {align-self: flex-start;width: 50%;}#sk-container-id-2 div.sk-parallel-item:only-child::after {width: 0;}#sk-container-id-2 div.sk-dashed-wrapped {border: 1px dashed gray;margin: 0 0.4em 0.5em 0.4em;box-sizing: border-box;padding-bottom: 0.4em;background-color: white;}#sk-container-id-2 div.sk-label label {font-family: monospace;font-weight: bold;display: inline-block;line-height: 1.2em;}#sk-container-id-2 div.sk-label-container {text-align: center;}#sk-container-id-2 div.sk-container {/* jupyter's `normalize.less` sets `[hidden] { display: none; }` but bootstrap.min.css set `[hidden] { display: none !important; }` so we also need the `!important` here to be able to override the default hidden behavior on the sphinx rendered scikit-learn.org. See: https://github.com/scikit-learn/scikit-learn/issues/21755 */display: inline-block !important;position: relative;}#sk-container-id-2 div.sk-text-repr-fallback {display: none;}</style><div id=\"sk-container-id-2\" class=\"sk-top-container\"><div class=\"sk-text-repr-fallback\"><pre>LogisticRegression()</pre><b>In a Jupyter environment, please rerun this cell to show the HTML representation or trust the notebook. <br />On GitHub, the HTML representation is unable to render, please try loading this page with nbviewer.org.</b></div><div class=\"sk-container\" hidden><div class=\"sk-item\"><div class=\"sk-estimator sk-toggleable\"><input class=\"sk-toggleable__control sk-hidden--visually\" id=\"sk-estimator-id-2\" type=\"checkbox\" checked><label for=\"sk-estimator-id-2\" class=\"sk-toggleable__label sk-toggleable__label-arrow\">LogisticRegression</label><div class=\"sk-toggleable__content\"><pre>LogisticRegression()</pre></div></div></div></div></div>"
      ],
      "text/plain": [
       "LogisticRegression()"
      ]
     },
     "execution_count": 4,
     "metadata": {},
     "output_type": "execute_result"
    }
   ],
   "source": [
    "logit.fit(X_train2, y_train2)"
   ]
  },
  {
   "cell_type": "markdown",
   "id": "3d9219ca-d2e5-4c93-8cbd-ef79070596e5",
   "metadata": {},
   "source": [
    "#### c. Use it"
   ]
  },
  {
   "cell_type": "code",
   "execution_count": 5,
   "id": "9caba066-f39f-4604-b3a8-6f6881f7267b",
   "metadata": {},
   "outputs": [
    {
     "data": {
      "text/plain": [
       "0.6835205992509363"
      ]
     },
     "execution_count": 5,
     "metadata": {},
     "output_type": "execute_result"
    }
   ],
   "source": [
    "logit.score(X_train2, y_train2)"
   ]
  },
  {
   "cell_type": "markdown",
   "id": "0202bfd5-5941-4904-9f30-ea56dda75c83",
   "metadata": {},
   "source": [
    ">This model performs better than the baseline."
   ]
  },
  {
   "cell_type": "markdown",
   "id": "5c817804-1d5a-4703-9929-8ef554475d96",
   "metadata": {},
   "source": [
    "#### d. take a look at predictions"
   ]
  },
  {
   "cell_type": "code",
   "execution_count": 6,
   "id": "2413dee5-884c-44c1-ba42-cb4218173bd3",
   "metadata": {},
   "outputs": [
    {
     "data": {
      "text/plain": [
       "array([0, 1, 1, 1, 0, 0, 0, 0, 1, 0, 0, 0, 1, 0, 0, 1, 1, 0, 0, 0, 0, 0,\n",
       "       0, 0, 0, 0, 0, 0, 0, 0, 1, 0, 1, 0, 0, 0, 0, 0, 0, 0, 0, 0, 0, 1,\n",
       "       0, 0, 1, 0, 0, 0, 0, 0, 1, 0, 0, 0, 0, 1, 0, 0, 0, 1, 0, 0, 1, 1,\n",
       "       0, 0, 0, 1, 1, 0, 0, 0, 0, 0, 0, 1, 0, 0, 0, 0, 0, 1, 0, 1, 0, 0,\n",
       "       0, 0, 0, 1, 0, 0, 1, 0, 0, 0, 0, 0, 1, 1, 1, 0, 0, 1, 0, 0, 0, 0,\n",
       "       0, 0, 1, 0, 1, 0, 0, 0, 0, 0, 0, 0, 1, 0, 0, 0, 0, 1, 0, 0, 0, 0,\n",
       "       0, 1, 0, 0, 0, 0, 0, 0, 0, 0, 0, 0, 0, 1, 0, 1, 1, 0, 1, 0, 0, 0,\n",
       "       0, 1, 1, 0, 0, 0, 0, 0, 1, 0, 0, 0, 0, 0, 0, 0, 1, 1, 1, 0, 1, 0,\n",
       "       1, 0, 0, 1, 1, 1, 0, 0, 0, 0, 0, 1, 0, 0, 0, 0, 0, 1, 0, 1, 0, 1,\n",
       "       0, 1, 1, 0, 0, 0, 0, 0, 0, 0, 1, 0, 0, 0, 0, 0, 0, 0, 0, 0, 0, 0,\n",
       "       0, 0, 0, 0, 0, 1, 0, 1, 0, 0, 0, 1, 0, 0, 1, 0, 0, 0, 0, 0, 0, 1,\n",
       "       0, 0, 0, 0, 1, 0, 0, 1, 0, 0, 0, 1, 1, 0, 0, 1, 1, 0, 0, 0, 0, 1,\n",
       "       0, 0, 1, 0, 0, 0, 0, 0, 0, 0, 0, 0, 0, 1, 0, 0, 0, 0, 0, 0, 0, 0,\n",
       "       0, 0, 0, 0, 0, 0, 0, 0, 0, 0, 1, 0, 0, 0, 0, 0, 0, 0, 0, 0, 0, 0,\n",
       "       0, 1, 0, 0, 1, 1, 0, 1, 0, 0, 0, 1, 0, 0, 1, 1, 0, 0, 0, 1, 1, 0,\n",
       "       0, 0, 0, 1, 0, 0, 0, 0, 0, 0, 0, 0, 1, 0, 0, 0, 0, 1, 0, 0, 0, 0,\n",
       "       0, 0, 1, 0, 0, 1, 1, 0, 1, 0, 1, 1, 1, 1, 0, 0, 0, 1, 0, 1, 0, 0,\n",
       "       1, 1, 1, 0, 1, 0, 1, 0, 1, 1, 0, 1, 0, 0, 1, 1, 0, 0, 0, 0, 0, 0,\n",
       "       1, 0, 0, 0, 0, 0, 0, 1, 1, 0, 0, 1, 0, 0, 0, 0, 0, 0, 0, 0, 1, 1,\n",
       "       0, 0, 1, 0, 1, 0, 0, 1, 1, 0, 0, 0, 0, 0, 0, 0, 0, 0, 0, 0, 0, 0,\n",
       "       0, 1, 0, 1, 0, 0, 1, 0, 0, 1, 0, 0, 0, 1, 0, 0, 0, 0, 1, 0, 1, 0,\n",
       "       1, 1, 1, 0, 0, 1, 0, 0, 1, 0, 0, 0, 0, 0, 0, 0, 0, 0, 0, 1, 0, 0,\n",
       "       0, 0, 0, 0, 0, 0, 0, 0, 0, 0, 1, 0, 0, 0, 0, 0, 0, 0, 0, 1, 0, 0,\n",
       "       0, 0, 1, 1, 0, 1, 0, 0, 0, 1, 0, 0, 1, 0, 0, 1, 0, 1, 0, 1, 0, 0,\n",
       "       1, 0, 0, 0, 0, 1])"
      ]
     },
     "execution_count": 6,
     "metadata": {},
     "output_type": "execute_result"
    }
   ],
   "source": [
    "logit.predict(X_train2)"
   ]
  },
  {
   "cell_type": "markdown",
   "id": "e62762ab-2d37-40fb-aabe-5f1cf1b71bb8",
   "metadata": {},
   "source": [
    "#### e. View raw probabilityes (output from the model)"
   ]
  },
  {
   "cell_type": "code",
   "execution_count": 7,
   "id": "41931b15-22d0-42ed-bec6-3338d6e693d3",
   "metadata": {},
   "outputs": [
    {
     "data": {
      "text/plain": [
       "array([[0.77, 0.23],\n",
       "       [0.28, 0.72],\n",
       "       [0.46, 0.54],\n",
       "       [0.28, 0.72],\n",
       "       [0.76, 0.24]])"
      ]
     },
     "execution_count": 7,
     "metadata": {},
     "output_type": "execute_result"
    }
   ],
   "source": [
    "logit.predict_proba(X_train2).round(2)[:5]"
   ]
  },
  {
   "cell_type": "markdown",
   "id": "4569e26e-146f-4699-95ad-c6cd9f3ca7b6",
   "metadata": {},
   "source": [
    "#### f. Classification report"
   ]
  },
  {
   "cell_type": "code",
   "execution_count": 8,
   "id": "e2aacf68-a13c-4593-afe1-d9ef8aa06466",
   "metadata": {},
   "outputs": [
    {
     "name": "stdout",
     "output_type": "stream",
     "text": [
      "              precision    recall  f1-score   support\n",
      "\n",
      "           0       0.70      0.85      0.77       329\n",
      "           1       0.63      0.42      0.50       205\n",
      "\n",
      "    accuracy                           0.68       534\n",
      "   macro avg       0.67      0.63      0.64       534\n",
      "weighted avg       0.67      0.68      0.67       534\n",
      "\n"
     ]
    }
   ],
   "source": [
    "print(classification_report(y_train2, logit.predict(X_train2)))"
   ]
  },
  {
   "cell_type": "markdown",
   "id": "2fcf4242-da73-4722-abab-d91353b83d78",
   "metadata": {},
   "source": [
    "#### g. Coef"
   ]
  },
  {
   "cell_type": "code",
   "execution_count": 9,
   "id": "1f0926de-8393-408d-b2fd-210a0b660ade",
   "metadata": {},
   "outputs": [
    {
     "data": {
      "text/plain": [
       "array([[-0.85407869, -0.01409236,  0.00300774]])"
      ]
     },
     "execution_count": 9,
     "metadata": {},
     "output_type": "execute_result"
    }
   ],
   "source": [
    "logit.coef_"
   ]
  },
  {
   "cell_type": "markdown",
   "id": "f6c558ef-dc50-430e-90f8-b4b82f11086e",
   "metadata": {},
   "source": [
    "#### h. Columns"
   ]
  },
  {
   "cell_type": "code",
   "execution_count": 10,
   "id": "7e9395de-d834-4ed3-adcd-603107c2f414",
   "metadata": {},
   "outputs": [
    {
     "data": {
      "text/plain": [
       "Index(['pclass', 'age', 'fare'], dtype='object')"
      ]
     },
     "execution_count": 10,
     "metadata": {},
     "output_type": "execute_result"
    }
   ],
   "source": [
    "X_train2.columns"
   ]
  },
  {
   "cell_type": "markdown",
   "id": "5acf640e-c704-412e-b2cd-95ae437bebde",
   "metadata": {},
   "source": [
    "### 2. Include sex in your model as well. Note that you'll need to encode or create a dummy variable of this feature before including it in a model."
   ]
  },
  {
   "cell_type": "code",
   "execution_count": 11,
   "id": "284140f7-5833-4272-9309-058889cb60fe",
   "metadata": {},
   "outputs": [
    {
     "name": "stdout",
     "output_type": "stream",
     "text": [
      "csv file found and loaded\n",
      "train:      survived  pclass   age      fare  sex_male\n",
      "455         1       3  29.0    7.8958         1\n",
      "380         1       1  42.0  227.5250         0\n",
      "\n",
      "validate:      survived  pclass   age     fare  sex_male\n",
      "176         0       3   0.0  25.4667         1\n",
      "372         0       3  19.0   8.0500         1\n",
      "\n",
      "test:      survived  pclass   age     fare  sex_male\n",
      "561         0       3  40.0   7.8958         1\n",
      "641         1       1  24.0  69.3000         0\n",
      "\n",
      "X_train:      pclass   age      fare  sex_male\n",
      "455       3  29.0    7.8958         1\n",
      "380       1  42.0  227.5250         0\n",
      "\n",
      "X_train: (534, 4), X_validate: (178, 4), X_test: (179, 4)\n",
      "Baseline accuracy: 0.6161048689138576\n"
     ]
    }
   ],
   "source": [
    "# Get your titanic data\n",
    "titanic3_df = acquire.get_titanic_data()\n",
    "\n",
    "# Clean the new dataset using the new function called prep_titanic\n",
    "titanic3_df = prepare.prep_titanic3(titanic3_df)\n",
    "\n",
    "# Prepare and Split my data\n",
    "train, validate, test = prepare.split_function(titanic3_df, 'survived')\n",
    "print(f'train: {train.head(2)}\\n')\n",
    "print(f'validate: {validate.head(2)}\\n')\n",
    "print(f'test: {test.head(2)}\\n')\n",
    "\n",
    "# ---------------------------------------------------------------------------------\n",
    "# Lets drop 'passenger_id', 'survived', 'sex', 'embarked' because they either are objects or don't add value to the data.\n",
    "# Also, we need to remove the 'survived' column because is our TARGET.\n",
    "# Also, lets convert train, validate and test. \n",
    "X_train = train.drop(columns = ['survived'])\n",
    "X_validate = validate.drop(columns = ['survived'])\n",
    "X_test = test.drop(columns = ['survived'])\n",
    "print(f'X_train: {X_train.head(2)}\\n')\n",
    "# ---------------------------------------------------------------------------------\n",
    "# Set a target\n",
    "target = 'survived'\n",
    "\n",
    "# 'y' variable are series\n",
    "y_train = train[target]\n",
    "y_validate = validate[target]\n",
    "y_test = test[target]\n",
    "\n",
    "# Check the shape\n",
    "print(f'X_train: {X_train.shape}, X_validate: {X_validate.shape}, X_test: {X_test.shape}')\n",
    "\n",
    "# ---------------------------------------------------------------------------------\n",
    "# calculate baseline accuracy\n",
    "def establish_baseline(y_train):\n",
    "    #est baseline\n",
    "    baseline_prediction = y_train.mode()\n",
    "    \n",
    "    #create series of prediction with that baseline val\n",
    "    #same len as y_train\n",
    "    y_train_pred = pd.Series((baseline_prediction[0]), range(len(y_train)))\n",
    "    \n",
    "    #compute the confusion matrix for Accuracy\n",
    "    cm= confusion_matrix(y_train, y_train_pred)\n",
    "    tn, fp, fn, tp = cm.ravel()\n",
    "    \n",
    "    accuracy = (tp+tn) / (tp+tn+fp+fn)\n",
    "    \n",
    "    return accuracy\n",
    "\n",
    "# write a function to compute the baseline for a classification model\n",
    "\n",
    "def establish_baseline(y_train):\n",
    "    #  establish the value we will predict for all observations\n",
    "    baseline_prediction = y_train.mode()\n",
    "\n",
    "    # create a series of predictions with that value, \n",
    "    # the same length as our training set\n",
    "    y_train_pred = pd.Series((baseline_prediction[0]), range(len(y_train)))\n",
    "\n",
    "    # compute accuracy of baseline\n",
    "    cm = confusion_matrix(y_train, y_train_pred)\n",
    "    tn, fp, fn, tp = cm.ravel()\n",
    "\n",
    "    accuracy = (tp+tn)/(tn+fp+fn+tp)\n",
    "    return accuracy\n",
    "\n",
    "    \n",
    "print(f'Baseline accuracy: {establish_baseline(y_train)}')"
   ]
  },
  {
   "cell_type": "code",
   "execution_count": 12,
   "id": "4d9850f5-6ca1-4190-9484-728120fc2cef",
   "metadata": {},
   "outputs": [
    {
     "data": {
      "text/plain": [
       "0.7790262172284644"
      ]
     },
     "execution_count": 12,
     "metadata": {},
     "output_type": "execute_result"
    }
   ],
   "source": [
    "logit3 = LogisticRegression()\n",
    "logit3.fit(X_train, y_train)\n",
    "logit3.score(X_train, y_train)"
   ]
  },
  {
   "cell_type": "code",
   "execution_count": 13,
   "id": "204b9a29-172f-40c9-9f4d-c23d895e0687",
   "metadata": {},
   "outputs": [
    {
     "name": "stdout",
     "output_type": "stream",
     "text": [
      "              precision    recall  f1-score   support\n",
      "\n",
      "           0       0.81      0.83      0.82       329\n",
      "           1       0.72      0.69      0.71       205\n",
      "\n",
      "    accuracy                           0.78       534\n",
      "   macro avg       0.77      0.76      0.76       534\n",
      "weighted avg       0.78      0.78      0.78       534\n",
      "\n"
     ]
    }
   ],
   "source": [
    "print(classification_report(y_train, logit3.predict(X_train)))"
   ]
  },
  {
   "cell_type": "code",
   "execution_count": 14,
   "id": "5151d6b3-6514-4fbc-bbc6-a008810980ba",
   "metadata": {},
   "outputs": [
    {
     "data": {
      "text/plain": [
       "Index(['pclass', 'age', 'fare', 'sex_male'], dtype='object')"
      ]
     },
     "execution_count": 14,
     "metadata": {},
     "output_type": "execute_result"
    }
   ],
   "source": [
    "X_train.columns"
   ]
  },
  {
   "cell_type": "markdown",
   "id": "666217ed-8eeb-40e9-90cd-dc808db99a22",
   "metadata": {},
   "source": [
    "### 3. Try out other combinations of features and models."
   ]
  },
  {
   "cell_type": "code",
   "execution_count": 15,
   "id": "dd5fbcf4-dcb2-4889-9994-5481313beddc",
   "metadata": {},
   "outputs": [
    {
     "name": "stdout",
     "output_type": "stream",
     "text": [
      "csv file found and loaded\n",
      "train:      survived  pclass   age      fare  sex_male  embarked_Q  embarked_S\n",
      "455         1       3  29.0    7.8958         1           0           0\n",
      "380         1       1  42.0  227.5250         0           0           0\n",
      "\n",
      "X_train:      pclass   age      fare  sex_male\n",
      "455       3  29.0    7.8958         1\n",
      "380       1  42.0  227.5250         0\n",
      "\n",
      "X_train: (534, 4), X_validate: (178, 6), X_test: (179, 6)\n",
      "Baseline accuracy: 0.6161048689138576\n"
     ]
    }
   ],
   "source": [
    "# ONlY THESE COLUMNS 'pclass', 'age', 'fare', 'sex_male', 'embarked_Q', 'embarked_S'\n",
    "\n",
    "# Get your titanic data\n",
    "titanic4_df = acquire.get_titanic_data()\n",
    "\n",
    "# Clean the new dataset using the new function called prep_titanic\n",
    "titanic4_df = prepare.prep_titanic4(titanic4_df)\n",
    "\n",
    "# Prepare and Split my data\n",
    "train, validate, test = prepare.split_function(titanic4_df, 'survived')\n",
    "print(f'train: {train.head(2)}\\n')\n",
    "\n",
    "# ---------------------------------------------------------------------------------\n",
    "# Remove the 'survived' column because is our TARGET.\n",
    "# Also, lets convert train, validate and test. \n",
    "X_train4 = train.drop(columns = ['survived'])\n",
    "X_validate = validate.drop(columns = ['survived'])\n",
    "X_test = test.drop(columns = ['survived'])\n",
    "print(f'X_train: {X_train.head(2)}\\n')\n",
    "# ---------------------------------------------------------------------------------\n",
    "# Set a target\n",
    "target = 'survived'\n",
    "\n",
    "# 'y' variable are series\n",
    "y_train = train[target]\n",
    "y_validate = validate[target]\n",
    "y_test = test[target]\n",
    "\n",
    "# Check the shape\n",
    "print(f'X_train: {X_train.shape}, X_validate: {X_validate.shape}, X_test: {X_test.shape}')\n",
    "\n",
    "# ---------------------------------------------------------------------------------\n",
    "# calculate baseline accuracy\n",
    "def establish_baseline4(y_train):\n",
    "    #est baseline\n",
    "    baseline_prediction = y_train.mode()\n",
    "    \n",
    "    #create series of prediction with that baseline val\n",
    "    #same len as y_train\n",
    "    y_train_pred = pd.Series((baseline_prediction[0]), range(len(y_train)))\n",
    "    \n",
    "    #compute the confusion matrix for Accuracy\n",
    "    cm= confusion_matrix(y_train, y_train_pred)\n",
    "    tn, fp, fn, tp = cm.ravel()\n",
    "    \n",
    "    accuracy = (tp+tn) / (tp+tn+fp+fn)\n",
    "    \n",
    "    return accuracy\n",
    "\n",
    "# write a function to compute the baseline for a classification model\n",
    "\n",
    "def establish_baseline(y_train):\n",
    "    #  establish the value we will predict for all observations\n",
    "    baseline_prediction = y_train.mode()\n",
    "\n",
    "    # create a series of predictions with that value, \n",
    "    # the same length as our training set\n",
    "    y_train_pred = pd.Series((baseline_prediction[0]), range(len(y_train)))\n",
    "\n",
    "    # compute accuracy of baseline\n",
    "    cm = confusion_matrix(y_train, y_train_pred)\n",
    "    tn, fp, fn, tp = cm.ravel()\n",
    "\n",
    "    accuracy = (tp+tn)/(tn+fp+fn+tp)\n",
    "    return accuracy\n",
    "\n",
    "    \n",
    "print(f'Baseline accuracy: {establish_baseline(y_train)}')"
   ]
  },
  {
   "cell_type": "code",
   "execution_count": 16,
   "id": "a25f31be-ac58-45be-82cd-f4b03b72f3a0",
   "metadata": {},
   "outputs": [
    {
     "data": {
      "text/plain": [
       "Index(['pclass', 'age', 'fare', 'sex_male'], dtype='object')"
      ]
     },
     "execution_count": 16,
     "metadata": {},
     "output_type": "execute_result"
    }
   ],
   "source": [
    "X_train.columns"
   ]
  },
  {
   "cell_type": "code",
   "execution_count": 17,
   "id": "4a6c46d5-f262-4804-bb6e-04abb7c0eddb",
   "metadata": {},
   "outputs": [
    {
     "data": {
      "text/plain": [
       "0.7790262172284644"
      ]
     },
     "execution_count": 17,
     "metadata": {},
     "output_type": "execute_result"
    }
   ],
   "source": [
    "logit4 = LogisticRegression()\n",
    "logit4.fit(X_train, y_train)\n",
    "logit4.score(X_train, y_train)"
   ]
  },
  {
   "cell_type": "code",
   "execution_count": 18,
   "id": "c9bb004b-ee79-4d4b-8756-79393c057c03",
   "metadata": {},
   "outputs": [
    {
     "name": "stdout",
     "output_type": "stream",
     "text": [
      "              precision    recall  f1-score   support\n",
      "\n",
      "           0       0.81      0.83      0.82       329\n",
      "           1       0.72      0.69      0.71       205\n",
      "\n",
      "    accuracy                           0.78       534\n",
      "   macro avg       0.77      0.76      0.76       534\n",
      "weighted avg       0.78      0.78      0.78       534\n",
      "\n"
     ]
    }
   ],
   "source": [
    "print(classification_report(y_train, logit4.predict(X_train)))"
   ]
  },
  {
   "cell_type": "markdown",
   "id": "5f810c0b-2860-42cc-8318-392361ff6534",
   "metadata": {},
   "source": [
    "### 4. Use you best 3 models to predict and evaluate on your validate sample."
   ]
  },
  {
   "cell_type": "code",
   "execution_count": 19,
   "id": "cc6a2a48-8b28-4b4e-a1fa-5d084d38afd3",
   "metadata": {},
   "outputs": [
    {
     "data": {
      "text/html": [
       "<style>#sk-container-id-3 {color: black;background-color: white;}#sk-container-id-3 pre{padding: 0;}#sk-container-id-3 div.sk-toggleable {background-color: white;}#sk-container-id-3 label.sk-toggleable__label {cursor: pointer;display: block;width: 100%;margin-bottom: 0;padding: 0.3em;box-sizing: border-box;text-align: center;}#sk-container-id-3 label.sk-toggleable__label-arrow:before {content: \"▸\";float: left;margin-right: 0.25em;color: #696969;}#sk-container-id-3 label.sk-toggleable__label-arrow:hover:before {color: black;}#sk-container-id-3 div.sk-estimator:hover label.sk-toggleable__label-arrow:before {color: black;}#sk-container-id-3 div.sk-toggleable__content {max-height: 0;max-width: 0;overflow: hidden;text-align: left;background-color: #f0f8ff;}#sk-container-id-3 div.sk-toggleable__content pre {margin: 0.2em;color: black;border-radius: 0.25em;background-color: #f0f8ff;}#sk-container-id-3 input.sk-toggleable__control:checked~div.sk-toggleable__content {max-height: 200px;max-width: 100%;overflow: auto;}#sk-container-id-3 input.sk-toggleable__control:checked~label.sk-toggleable__label-arrow:before {content: \"▾\";}#sk-container-id-3 div.sk-estimator input.sk-toggleable__control:checked~label.sk-toggleable__label {background-color: #d4ebff;}#sk-container-id-3 div.sk-label input.sk-toggleable__control:checked~label.sk-toggleable__label {background-color: #d4ebff;}#sk-container-id-3 input.sk-hidden--visually {border: 0;clip: rect(1px 1px 1px 1px);clip: rect(1px, 1px, 1px, 1px);height: 1px;margin: -1px;overflow: hidden;padding: 0;position: absolute;width: 1px;}#sk-container-id-3 div.sk-estimator {font-family: monospace;background-color: #f0f8ff;border: 1px dotted black;border-radius: 0.25em;box-sizing: border-box;margin-bottom: 0.5em;}#sk-container-id-3 div.sk-estimator:hover {background-color: #d4ebff;}#sk-container-id-3 div.sk-parallel-item::after {content: \"\";width: 100%;border-bottom: 1px solid gray;flex-grow: 1;}#sk-container-id-3 div.sk-label:hover label.sk-toggleable__label {background-color: #d4ebff;}#sk-container-id-3 div.sk-serial::before {content: \"\";position: absolute;border-left: 1px solid gray;box-sizing: border-box;top: 0;bottom: 0;left: 50%;z-index: 0;}#sk-container-id-3 div.sk-serial {display: flex;flex-direction: column;align-items: center;background-color: white;padding-right: 0.2em;padding-left: 0.2em;position: relative;}#sk-container-id-3 div.sk-item {position: relative;z-index: 1;}#sk-container-id-3 div.sk-parallel {display: flex;align-items: stretch;justify-content: center;background-color: white;position: relative;}#sk-container-id-3 div.sk-item::before, #sk-container-id-3 div.sk-parallel-item::before {content: \"\";position: absolute;border-left: 1px solid gray;box-sizing: border-box;top: 0;bottom: 0;left: 50%;z-index: -1;}#sk-container-id-3 div.sk-parallel-item {display: flex;flex-direction: column;z-index: 1;position: relative;background-color: white;}#sk-container-id-3 div.sk-parallel-item:first-child::after {align-self: flex-end;width: 50%;}#sk-container-id-3 div.sk-parallel-item:last-child::after {align-self: flex-start;width: 50%;}#sk-container-id-3 div.sk-parallel-item:only-child::after {width: 0;}#sk-container-id-3 div.sk-dashed-wrapped {border: 1px dashed gray;margin: 0 0.4em 0.5em 0.4em;box-sizing: border-box;padding-bottom: 0.4em;background-color: white;}#sk-container-id-3 div.sk-label label {font-family: monospace;font-weight: bold;display: inline-block;line-height: 1.2em;}#sk-container-id-3 div.sk-label-container {text-align: center;}#sk-container-id-3 div.sk-container {/* jupyter's `normalize.less` sets `[hidden] { display: none; }` but bootstrap.min.css set `[hidden] { display: none !important; }` so we also need the `!important` here to be able to override the default hidden behavior on the sphinx rendered scikit-learn.org. See: https://github.com/scikit-learn/scikit-learn/issues/21755 */display: inline-block !important;position: relative;}#sk-container-id-3 div.sk-text-repr-fallback {display: none;}</style><div id=\"sk-container-id-3\" class=\"sk-top-container\"><div class=\"sk-text-repr-fallback\"><pre>LogisticRegression(C=0.01)</pre><b>In a Jupyter environment, please rerun this cell to show the HTML representation or trust the notebook. <br />On GitHub, the HTML representation is unable to render, please try loading this page with nbviewer.org.</b></div><div class=\"sk-container\" hidden><div class=\"sk-item\"><div class=\"sk-estimator sk-toggleable\"><input class=\"sk-toggleable__control sk-hidden--visually\" id=\"sk-estimator-id-3\" type=\"checkbox\" checked><label for=\"sk-estimator-id-3\" class=\"sk-toggleable__label sk-toggleable__label-arrow\">LogisticRegression</label><div class=\"sk-toggleable__content\"><pre>LogisticRegression(C=0.01)</pre></div></div></div></div></div>"
      ],
      "text/plain": [
       "LogisticRegression(C=0.01)"
      ]
     },
     "execution_count": 19,
     "metadata": {},
     "output_type": "execute_result"
    }
   ],
   "source": [
    "# Change hyperparameter C = 0.01\n",
    "logit5 = LogisticRegression(C=0.01)\n",
    "logit5"
   ]
  },
  {
   "cell_type": "code",
   "execution_count": 20,
   "id": "8a9d7efb-9541-48ea-a50e-5c12b3f31a2f",
   "metadata": {},
   "outputs": [
    {
     "data": {
      "text/html": [
       "<style>#sk-container-id-4 {color: black;background-color: white;}#sk-container-id-4 pre{padding: 0;}#sk-container-id-4 div.sk-toggleable {background-color: white;}#sk-container-id-4 label.sk-toggleable__label {cursor: pointer;display: block;width: 100%;margin-bottom: 0;padding: 0.3em;box-sizing: border-box;text-align: center;}#sk-container-id-4 label.sk-toggleable__label-arrow:before {content: \"▸\";float: left;margin-right: 0.25em;color: #696969;}#sk-container-id-4 label.sk-toggleable__label-arrow:hover:before {color: black;}#sk-container-id-4 div.sk-estimator:hover label.sk-toggleable__label-arrow:before {color: black;}#sk-container-id-4 div.sk-toggleable__content {max-height: 0;max-width: 0;overflow: hidden;text-align: left;background-color: #f0f8ff;}#sk-container-id-4 div.sk-toggleable__content pre {margin: 0.2em;color: black;border-radius: 0.25em;background-color: #f0f8ff;}#sk-container-id-4 input.sk-toggleable__control:checked~div.sk-toggleable__content {max-height: 200px;max-width: 100%;overflow: auto;}#sk-container-id-4 input.sk-toggleable__control:checked~label.sk-toggleable__label-arrow:before {content: \"▾\";}#sk-container-id-4 div.sk-estimator input.sk-toggleable__control:checked~label.sk-toggleable__label {background-color: #d4ebff;}#sk-container-id-4 div.sk-label input.sk-toggleable__control:checked~label.sk-toggleable__label {background-color: #d4ebff;}#sk-container-id-4 input.sk-hidden--visually {border: 0;clip: rect(1px 1px 1px 1px);clip: rect(1px, 1px, 1px, 1px);height: 1px;margin: -1px;overflow: hidden;padding: 0;position: absolute;width: 1px;}#sk-container-id-4 div.sk-estimator {font-family: monospace;background-color: #f0f8ff;border: 1px dotted black;border-radius: 0.25em;box-sizing: border-box;margin-bottom: 0.5em;}#sk-container-id-4 div.sk-estimator:hover {background-color: #d4ebff;}#sk-container-id-4 div.sk-parallel-item::after {content: \"\";width: 100%;border-bottom: 1px solid gray;flex-grow: 1;}#sk-container-id-4 div.sk-label:hover label.sk-toggleable__label {background-color: #d4ebff;}#sk-container-id-4 div.sk-serial::before {content: \"\";position: absolute;border-left: 1px solid gray;box-sizing: border-box;top: 0;bottom: 0;left: 50%;z-index: 0;}#sk-container-id-4 div.sk-serial {display: flex;flex-direction: column;align-items: center;background-color: white;padding-right: 0.2em;padding-left: 0.2em;position: relative;}#sk-container-id-4 div.sk-item {position: relative;z-index: 1;}#sk-container-id-4 div.sk-parallel {display: flex;align-items: stretch;justify-content: center;background-color: white;position: relative;}#sk-container-id-4 div.sk-item::before, #sk-container-id-4 div.sk-parallel-item::before {content: \"\";position: absolute;border-left: 1px solid gray;box-sizing: border-box;top: 0;bottom: 0;left: 50%;z-index: -1;}#sk-container-id-4 div.sk-parallel-item {display: flex;flex-direction: column;z-index: 1;position: relative;background-color: white;}#sk-container-id-4 div.sk-parallel-item:first-child::after {align-self: flex-end;width: 50%;}#sk-container-id-4 div.sk-parallel-item:last-child::after {align-self: flex-start;width: 50%;}#sk-container-id-4 div.sk-parallel-item:only-child::after {width: 0;}#sk-container-id-4 div.sk-dashed-wrapped {border: 1px dashed gray;margin: 0 0.4em 0.5em 0.4em;box-sizing: border-box;padding-bottom: 0.4em;background-color: white;}#sk-container-id-4 div.sk-label label {font-family: monospace;font-weight: bold;display: inline-block;line-height: 1.2em;}#sk-container-id-4 div.sk-label-container {text-align: center;}#sk-container-id-4 div.sk-container {/* jupyter's `normalize.less` sets `[hidden] { display: none; }` but bootstrap.min.css set `[hidden] { display: none !important; }` so we also need the `!important` here to be able to override the default hidden behavior on the sphinx rendered scikit-learn.org. See: https://github.com/scikit-learn/scikit-learn/issues/21755 */display: inline-block !important;position: relative;}#sk-container-id-4 div.sk-text-repr-fallback {display: none;}</style><div id=\"sk-container-id-4\" class=\"sk-top-container\"><div class=\"sk-text-repr-fallback\"><pre>LogisticRegression(C=0.01)</pre><b>In a Jupyter environment, please rerun this cell to show the HTML representation or trust the notebook. <br />On GitHub, the HTML representation is unable to render, please try loading this page with nbviewer.org.</b></div><div class=\"sk-container\" hidden><div class=\"sk-item\"><div class=\"sk-estimator sk-toggleable\"><input class=\"sk-toggleable__control sk-hidden--visually\" id=\"sk-estimator-id-4\" type=\"checkbox\" checked><label for=\"sk-estimator-id-4\" class=\"sk-toggleable__label sk-toggleable__label-arrow\">LogisticRegression</label><div class=\"sk-toggleable__content\"><pre>LogisticRegression(C=0.01)</pre></div></div></div></div></div>"
      ],
      "text/plain": [
       "LogisticRegression(C=0.01)"
      ]
     },
     "execution_count": 20,
     "metadata": {},
     "output_type": "execute_result"
    }
   ],
   "source": [
    "logit5.fit(X_train, y_train)"
   ]
  },
  {
   "cell_type": "code",
   "execution_count": 21,
   "id": "a099dcf9-102f-4818-853c-bad0b8dbc694",
   "metadata": {},
   "outputs": [
    {
     "data": {
      "text/plain": [
       "array([0, 1, 0, 0, 0, 0, 0, 0, 0, 0, 0, 0, 0, 0, 0, 0, 0, 0, 0, 0, 0, 0,\n",
       "       1, 0, 0, 0, 0, 0, 0, 0, 0, 0, 0, 0, 0, 0, 0, 0, 0, 0, 0, 0, 0, 1,\n",
       "       0, 0, 1, 0, 0, 0, 0, 0, 0, 0, 0, 0, 0, 1, 0, 0, 0, 0, 0, 0, 1, 1,\n",
       "       0, 0, 0, 1, 0, 0, 0, 0, 0, 0, 0, 1, 0, 0, 0, 0, 0, 1, 0, 0, 0, 0,\n",
       "       0, 0, 0, 0, 0, 0, 1, 0, 0, 0, 0, 0, 0, 1, 0, 0, 0, 1, 0, 0, 0, 0,\n",
       "       0, 0, 0, 0, 0, 0, 0, 0, 0, 0, 0, 0, 1, 0, 0, 0, 0, 0, 0, 0, 0, 0,\n",
       "       0, 0, 0, 0, 0, 0, 0, 0, 0, 0, 0, 0, 0, 1, 0, 1, 1, 0, 1, 0, 0, 0,\n",
       "       0, 1, 0, 0, 0, 0, 0, 0, 1, 0, 0, 0, 0, 0, 0, 0, 1, 0, 1, 1, 1, 0,\n",
       "       1, 0, 0, 1, 0, 0, 0, 0, 0, 0, 0, 1, 0, 0, 0, 0, 0, 0, 0, 1, 0, 0,\n",
       "       0, 0, 1, 0, 0, 0, 0, 0, 0, 0, 1, 0, 0, 0, 0, 0, 0, 0, 0, 0, 0, 0,\n",
       "       0, 0, 0, 0, 0, 1, 0, 1, 0, 0, 0, 1, 0, 0, 0, 0, 0, 0, 0, 0, 0, 1,\n",
       "       0, 0, 0, 0, 1, 0, 0, 0, 0, 0, 0, 0, 1, 0, 0, 0, 1, 0, 0, 0, 0, 0,\n",
       "       0, 0, 0, 0, 0, 0, 0, 0, 0, 0, 0, 0, 0, 0, 0, 0, 0, 0, 0, 0, 0, 0,\n",
       "       0, 0, 0, 0, 0, 0, 0, 0, 0, 0, 1, 0, 0, 1, 0, 0, 0, 0, 0, 0, 0, 0,\n",
       "       0, 1, 0, 0, 0, 1, 0, 1, 0, 0, 0, 0, 0, 0, 1, 1, 0, 0, 0, 0, 0, 0,\n",
       "       0, 0, 0, 0, 0, 0, 0, 0, 0, 0, 0, 0, 1, 0, 0, 0, 0, 0, 0, 0, 0, 0,\n",
       "       0, 0, 0, 0, 0, 1, 0, 0, 1, 0, 1, 1, 0, 1, 0, 0, 0, 1, 0, 1, 0, 0,\n",
       "       1, 0, 1, 0, 1, 0, 0, 0, 0, 0, 0, 0, 0, 0, 1, 1, 0, 0, 0, 0, 0, 0,\n",
       "       1, 0, 0, 0, 0, 0, 0, 1, 1, 0, 0, 1, 0, 0, 0, 0, 0, 0, 0, 0, 0, 1,\n",
       "       0, 0, 0, 0, 0, 0, 0, 1, 1, 0, 0, 0, 0, 0, 0, 0, 0, 0, 0, 0, 0, 0,\n",
       "       0, 1, 0, 1, 0, 0, 1, 0, 0, 0, 0, 0, 0, 0, 0, 0, 0, 0, 0, 0, 0, 0,\n",
       "       0, 1, 1, 0, 0, 0, 0, 0, 1, 0, 0, 0, 0, 0, 0, 0, 0, 0, 0, 1, 0, 0,\n",
       "       0, 0, 0, 0, 0, 0, 0, 0, 0, 0, 0, 0, 0, 0, 0, 0, 0, 0, 0, 1, 0, 0,\n",
       "       0, 0, 1, 1, 0, 0, 0, 0, 0, 0, 0, 0, 1, 0, 0, 0, 0, 0, 0, 1, 0, 0,\n",
       "       0, 0, 0, 0, 0, 1])"
      ]
     },
     "execution_count": 21,
     "metadata": {},
     "output_type": "execute_result"
    }
   ],
   "source": [
    "logit5.predict(X_train)"
   ]
  },
  {
   "cell_type": "code",
   "execution_count": 22,
   "id": "24558a59-8d2f-464d-982e-6c4b172fa48d",
   "metadata": {},
   "outputs": [
    {
     "data": {
      "text/plain": [
       "0.6928838951310862"
      ]
     },
     "execution_count": 22,
     "metadata": {},
     "output_type": "execute_result"
    }
   ],
   "source": [
    "logit5.score(X_train, y_train)"
   ]
  },
  {
   "cell_type": "code",
   "execution_count": 23,
   "id": "abfd0c1f-641e-4fa8-a989-f9a805d3f951",
   "metadata": {},
   "outputs": [
    {
     "name": "stdout",
     "output_type": "stream",
     "text": [
      "              precision    recall  f1-score   support\n",
      "\n",
      "           0       0.68      0.95      0.79       329\n",
      "           1       0.77      0.29      0.42       205\n",
      "\n",
      "    accuracy                           0.69       534\n",
      "   macro avg       0.72      0.62      0.60       534\n",
      "weighted avg       0.71      0.69      0.65       534\n",
      "\n"
     ]
    }
   ],
   "source": [
    "print(classification_report(y_train,logit5.predict(X_train)))"
   ]
  },
  {
   "cell_type": "markdown",
   "id": "a21982f5-e9ee-4f9e-ad2d-b3cbbadf43fe",
   "metadata": {},
   "source": [
    "### 5. Choose you best model from the validation performation, and evaluate it on the test dataset. How do the performance metrics compare to validate? to train?"
   ]
  },
  {
   "cell_type": "code",
   "execution_count": 24,
   "id": "b66b1bb4-d4c5-4152-9393-56d682c41d5e",
   "metadata": {},
   "outputs": [
    {
     "data": {
      "text/plain": [
       "0.6835205992509363"
      ]
     },
     "execution_count": 24,
     "metadata": {},
     "output_type": "execute_result"
    }
   ],
   "source": [
    "# ONLY THESE COLUMS 'pclass', 'age', 'fare'\n",
    "logit.score(X_train2, y_train2)"
   ]
  },
  {
   "cell_type": "code",
   "execution_count": 25,
   "id": "50aa762f-9797-4d2b-8b59-e713624202e5",
   "metadata": {},
   "outputs": [
    {
     "data": {
      "text/plain": [
       "0.7790262172284644"
      ]
     },
     "execution_count": 25,
     "metadata": {},
     "output_type": "execute_result"
    }
   ],
   "source": [
    "# ONLY THESE COLUMS 'pclass', 'age', 'fare', 'sex_male'\n",
    "logit3.score(X_train, y_train)"
   ]
  },
  {
   "cell_type": "code",
   "execution_count": 26,
   "id": "554a8924-9258-49a8-8a9a-b72d6744f425",
   "metadata": {},
   "outputs": [
    {
     "data": {
      "text/plain": [
       "0.7790262172284644"
      ]
     },
     "execution_count": 26,
     "metadata": {},
     "output_type": "execute_result"
    }
   ],
   "source": [
    "# ONlY THESE COLUMNS 'pclass', 'age', 'fare', 'sex_male', 'embarked_Q', 'embarked_S'\n",
    "logit4.score(X_train, y_train)"
   ]
  },
  {
   "cell_type": "code",
   "execution_count": 27,
   "id": "a9f0017e-fc52-491d-bf37-d56a4ddf2af7",
   "metadata": {},
   "outputs": [
    {
     "data": {
      "text/plain": [
       "0.6928838951310862"
      ]
     },
     "execution_count": 27,
     "metadata": {},
     "output_type": "execute_result"
    }
   ],
   "source": [
    "# Change hyperparameter C = 0.01\n",
    "logit5.score(X_train, y_train)"
   ]
  },
  {
   "cell_type": "code",
   "execution_count": 28,
   "id": "b24fc747-d988-47db-a07f-75bab2b1f17c",
   "metadata": {},
   "outputs": [
    {
     "data": {
      "text/plain": [
       "0.7808988764044944"
      ]
     },
     "execution_count": 28,
     "metadata": {},
     "output_type": "execute_result"
    }
   ],
   "source": [
    "# Change hyperparameter C = 0.08\n",
    "logit6 = LogisticRegression(C=0.08)\n",
    "logit6.fit(X_train, y_train)\n",
    "logit6.score(X_train, y_train)"
   ]
  },
  {
   "cell_type": "markdown",
   "id": "b7788859-ca31-4798-a96b-e1ce87dd2705",
   "metadata": {},
   "source": [
    "### Bonus 1. How do different strategies for handling the missing values in the age column affect model performance?"
   ]
  },
  {
   "cell_type": "code",
   "execution_count": null,
   "id": "251dba84-07fc-4983-981e-742cf2b3c2f7",
   "metadata": {},
   "outputs": [],
   "source": []
  }
 ],
 "metadata": {
  "kernelspec": {
   "display_name": "Python 3 (ipykernel)",
   "language": "python",
   "name": "python3"
  },
  "language_info": {
   "codemirror_mode": {
    "name": "ipython",
    "version": 3
   },
   "file_extension": ".py",
   "mimetype": "text/x-python",
   "name": "python",
   "nbconvert_exporter": "python",
   "pygments_lexer": "ipython3",
   "version": "3.9.13"
  }
 },
 "nbformat": 4,
 "nbformat_minor": 5
}
