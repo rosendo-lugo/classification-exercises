{
 "cells": [
  {
   "cell_type": "markdown",
   "id": "45ecc040",
   "metadata": {},
   "source": [
    "# Exercises"
   ]
  },
  {
   "cell_type": "markdown",
   "id": "bceb305b",
   "metadata": {},
   "source": [
    "\n",
    "#### The end product of these exercise is a jupyter notebook (classification_exercises.ipynb) and a acquire.py file. The notebook will contain all your work as you move through the exercises. The acquire.py file should contain the final functions that acquire the data into a pandas dataframe."
   ]
  },
  {
   "cell_type": "markdown",
   "id": "a3505ebb",
   "metadata": {},
   "source": [
    "### 1. Make a new repo called classification-exercises on both GitHub and within your codeup-data-science directory. This will be where you do your work for this module."
   ]
  },
  {
   "cell_type": "markdown",
   "id": "4d96ff3e",
   "metadata": {},
   "source": []
  },
  {
   "cell_type": "markdown",
   "id": "232ce753",
   "metadata": {},
   "source": []
  },
  {
   "cell_type": "markdown",
   "id": "cd4a856a",
   "metadata": {},
   "source": []
  },
  {
   "cell_type": "markdown",
   "id": "9a61bd4d",
   "metadata": {},
   "source": []
  },
  {
   "cell_type": "markdown",
   "id": "a863b054",
   "metadata": {},
   "source": []
  },
  {
   "cell_type": "code",
   "execution_count": null,
   "id": "49422a56",
   "metadata": {},
   "outputs": [],
   "source": []
  },
  {
   "cell_type": "code",
   "execution_count": null,
   "id": "8b0648c9",
   "metadata": {},
   "outputs": [],
   "source": []
  },
  {
   "cell_type": "code",
   "execution_count": null,
   "id": "e201804c",
   "metadata": {},
   "outputs": [],
   "source": []
  },
  {
   "cell_type": "code",
   "execution_count": null,
   "id": "dc05ca62",
   "metadata": {},
   "outputs": [],
   "source": []
  }
 ],
 "metadata": {
  "kernelspec": {
   "display_name": "Python 3 (ipykernel)",
   "language": "python",
   "name": "python3"
  },
  "language_info": {
   "codemirror_mode": {
    "name": "ipython",
    "version": 3
   },
   "file_extension": ".py",
   "mimetype": "text/x-python",
   "name": "python",
   "nbconvert_exporter": "python",
   "pygments_lexer": "ipython3",
   "version": "3.9.13"
  }
 },
 "nbformat": 4,
 "nbformat_minor": 5
}
