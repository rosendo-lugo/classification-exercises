{
 "cells": [
  {
   "cell_type": "markdown",
   "id": "078c3325-0254-4274-9adc-6b6f89f2a0c2",
   "metadata": {},
   "source": [
    "# Evaluation"
   ]
  },
  {
   "cell_type": "markdown",
   "id": "99228ceb-d6c3-4995-9ea1-a2b644579c7e",
   "metadata": {
    "tags": []
   },
   "source": [
    "## Exercises"
   ]
  },
  {
   "cell_type": "markdown",
   "id": "550e2880-3db1-4533-ac34-705d16c0cbe1",
   "metadata": {},
   "source": [
    "### 1. Create a new file named model_evaluation.py or model_evaluation.ipynb for these exercises."
   ]
  },
  {
   "cell_type": "markdown",
   "id": "0cb9976f-06d9-4de6-84db-8d299c5c2ef9",
   "metadata": {},
   "source": [
    "### 2. Given the following confusion matrix, evaluate (by hand) the model's performance.\n",
    "\n",
    "\n",
    "|                  | (AP) actual dog     | (AN) actual cat|                          |\n",
    "|:-----------------|--------------------:|---------------:|--------------------------:\n",
    "| (PP) pred dog    | (TP)             46 | (FP)        13 | Precision/PPV:TP/(TP+FP) |\n",
    "| (PN) pred cat    | (FN)              7 | (TN)        34 | NPV: TN/(TN_FN).         |\n",
    "|                  | Recall/Sensitivity: | Specificity:   | Accuracy =               |\n",
    "|                  | TP/(TP+FN)          | TN/(FP+TN)     | (TP+TN)/                 |\n",
    "|                  |                     |                | (TP+FP+FN+TN)            |\n",
    "\n",
    "\n",
    ">In the context of this problem, what is a false positive?\n",
    ">> FP: We predicted they were dogs and they were actual cats (13 times)\n",
    "\n",
    ">In the context of this problem, what is a false negative?\n",
    ">> FN: We predicted they were cats and they were actual dogs (7 times)\n",
    "\n",
    ">How would you describe this model?\n",
    ">> TP: We predicted they were dogs and they were actual dogs (46 times)\n",
    "\n",
    ">> TN: We predicted they were cats and they were actual cats (34 times)\n",
    "\n",
    ">> FP: We predicted they were dogs and they were actual cats (13 times)\n",
    "\n",
    ">> FN: We predicted they were cats and they were actual dogs (7 times)"
   ]
  },
  {
   "cell_type": "code",
   "execution_count": 36,
   "id": "e5aae56f-81c9-4680-8990-14c70c70e8ff",
   "metadata": {},
   "outputs": [],
   "source": [
    "TP = 46\n",
    "\n",
    "TN = 34\n",
    "\n",
    "FP = 13\n",
    "\n",
    "FN = 7"
   ]
  },
  {
   "cell_type": "code",
   "execution_count": null,
   "id": "97e6f6c8-f959-497d-8243-f574c3f31dc5",
   "metadata": {},
   "outputs": [],
   "source": []
  },
  {
   "cell_type": "markdown",
   "id": "bdf8b033-c148-4b24-8565-369bf99799d3",
   "metadata": {},
   "source": [
    "### 3. You are working as a datascientist working for Codeup Cody Creator (C3 for short), a rubber-duck manufacturing plant.\n",
    "\n",
    "    Unfortunately, some of the rubber ducks that are produced will have defects. Your team has built several models that try to predict those defects, and the data from their predictions can be found here.\n",
    "\n",
    "    Use the predictions dataset and pandas to help answer the following questions:"
   ]
  },
  {
   "cell_type": "markdown",
   "id": "6a376032-2bb2-4bb8-ba5e-5b8e3b9fac40",
   "metadata": {},
   "source": [
    "### Imports"
   ]
  },
  {
   "cell_type": "code",
   "execution_count": 6,
   "id": "afce4d69-7c74-4dea-b5fb-a67004c9c468",
   "metadata": {},
   "outputs": [],
   "source": [
    "import pandas as pd\n",
    "\n",
    "#stats\n",
    "from sklearn.metrics import confusion_matrix"
   ]
  },
  {
   "cell_type": "code",
   "execution_count": 7,
   "id": "f93c3f8b-e1fe-469b-a2e0-c9e8f40eed5e",
   "metadata": {},
   "outputs": [],
   "source": [
    "filename = 'c3.csv'"
   ]
  },
  {
   "cell_type": "code",
   "execution_count": 14,
   "id": "efc1bf05-3792-4ec0-9cb9-f9e35ab782e9",
   "metadata": {},
   "outputs": [],
   "source": [
    "c3_df = pd.read_csv(filename)"
   ]
  },
  {
   "cell_type": "code",
   "execution_count": 15,
   "id": "a7b1f3fd-c72e-409f-a57e-7cb3159c742b",
   "metadata": {},
   "outputs": [
    {
     "data": {
      "text/html": [
       "<div>\n",
       "<style scoped>\n",
       "    .dataframe tbody tr th:only-of-type {\n",
       "        vertical-align: middle;\n",
       "    }\n",
       "\n",
       "    .dataframe tbody tr th {\n",
       "        vertical-align: top;\n",
       "    }\n",
       "\n",
       "    .dataframe thead th {\n",
       "        text-align: right;\n",
       "    }\n",
       "</style>\n",
       "<table border=\"1\" class=\"dataframe\">\n",
       "  <thead>\n",
       "    <tr style=\"text-align: right;\">\n",
       "      <th></th>\n",
       "      <th>actual</th>\n",
       "      <th>model1</th>\n",
       "      <th>model2</th>\n",
       "      <th>model3</th>\n",
       "    </tr>\n",
       "  </thead>\n",
       "  <tbody>\n",
       "    <tr>\n",
       "      <th>0</th>\n",
       "      <td>No Defect</td>\n",
       "      <td>No Defect</td>\n",
       "      <td>Defect</td>\n",
       "      <td>No Defect</td>\n",
       "    </tr>\n",
       "    <tr>\n",
       "      <th>1</th>\n",
       "      <td>No Defect</td>\n",
       "      <td>No Defect</td>\n",
       "      <td>Defect</td>\n",
       "      <td>Defect</td>\n",
       "    </tr>\n",
       "    <tr>\n",
       "      <th>2</th>\n",
       "      <td>No Defect</td>\n",
       "      <td>No Defect</td>\n",
       "      <td>Defect</td>\n",
       "      <td>No Defect</td>\n",
       "    </tr>\n",
       "    <tr>\n",
       "      <th>3</th>\n",
       "      <td>No Defect</td>\n",
       "      <td>Defect</td>\n",
       "      <td>Defect</td>\n",
       "      <td>Defect</td>\n",
       "    </tr>\n",
       "    <tr>\n",
       "      <th>4</th>\n",
       "      <td>No Defect</td>\n",
       "      <td>No Defect</td>\n",
       "      <td>Defect</td>\n",
       "      <td>No Defect</td>\n",
       "    </tr>\n",
       "  </tbody>\n",
       "</table>\n",
       "</div>"
      ],
      "text/plain": [
       "      actual     model1  model2     model3\n",
       "0  No Defect  No Defect  Defect  No Defect\n",
       "1  No Defect  No Defect  Defect     Defect\n",
       "2  No Defect  No Defect  Defect  No Defect\n",
       "3  No Defect     Defect  Defect     Defect\n",
       "4  No Defect  No Defect  Defect  No Defect"
      ]
     },
     "execution_count": 15,
     "metadata": {},
     "output_type": "execute_result"
    }
   ],
   "source": [
    "c3_df.head()"
   ]
  },
  {
   "cell_type": "markdown",
   "id": "546b5c21-672c-419f-bfc1-ed4abdedc3e0",
   "metadata": {},
   "source": [
    "#### • An internal team wants to investigate the cause of the manufacturing defects. They tell you that they want to identify as many of the ducks that have a defect as possible. Which evaluation metric would be appropriate here? Which model would be the best fit for this use case?"
   ]
  },
  {
   "cell_type": "code",
   "execution_count": 22,
   "id": "5042ff7c-9eae-426f-a57e-77fca9937c6e",
   "metadata": {},
   "outputs": [
    {
     "data": {
      "text/html": [
       "<div>\n",
       "<style scoped>\n",
       "    .dataframe tbody tr th:only-of-type {\n",
       "        vertical-align: middle;\n",
       "    }\n",
       "\n",
       "    .dataframe tbody tr th {\n",
       "        vertical-align: top;\n",
       "    }\n",
       "\n",
       "    .dataframe thead th {\n",
       "        text-align: right;\n",
       "    }\n",
       "</style>\n",
       "<table border=\"1\" class=\"dataframe\">\n",
       "  <thead>\n",
       "    <tr style=\"text-align: right;\">\n",
       "      <th>model1</th>\n",
       "      <th>Defect</th>\n",
       "      <th>No Defect</th>\n",
       "    </tr>\n",
       "    <tr>\n",
       "      <th>actual</th>\n",
       "      <th></th>\n",
       "      <th></th>\n",
       "    </tr>\n",
       "  </thead>\n",
       "  <tbody>\n",
       "    <tr>\n",
       "      <th>Defect</th>\n",
       "      <td>8</td>\n",
       "      <td>8</td>\n",
       "    </tr>\n",
       "    <tr>\n",
       "      <th>No Defect</th>\n",
       "      <td>2</td>\n",
       "      <td>182</td>\n",
       "    </tr>\n",
       "  </tbody>\n",
       "</table>\n",
       "</div>"
      ],
      "text/plain": [
       "model1     Defect  No Defect\n",
       "actual                      \n",
       "Defect          8          8\n",
       "No Defect       2        182"
      ]
     },
     "execution_count": 22,
     "metadata": {},
     "output_type": "execute_result"
    }
   ],
   "source": [
    "model_1 = pd.crosstab(c3_df.actual, c3_df.model1)\n",
    "model_1"
   ]
  },
  {
   "cell_type": "code",
   "execution_count": 27,
   "id": "105b30db-b09e-4723-8225-121bc3d78455",
   "metadata": {},
   "outputs": [
    {
     "data": {
      "text/plain": [
       "array([[182,   2],\n",
       "       [  8,   8]])"
      ]
     },
     "execution_count": 27,
     "metadata": {},
     "output_type": "execute_result"
    }
   ],
   "source": [
    "confusion_matrix(c3_df.actual, c3_df.model1,\n",
    "                 labels = ('No Defect', 'Defect'))"
   ]
  },
  {
   "cell_type": "code",
   "execution_count": 23,
   "id": "13ac5484-8364-40a6-ad3a-292f412bff50",
   "metadata": {},
   "outputs": [
    {
     "data": {
      "text/html": [
       "<div>\n",
       "<style scoped>\n",
       "    .dataframe tbody tr th:only-of-type {\n",
       "        vertical-align: middle;\n",
       "    }\n",
       "\n",
       "    .dataframe tbody tr th {\n",
       "        vertical-align: top;\n",
       "    }\n",
       "\n",
       "    .dataframe thead th {\n",
       "        text-align: right;\n",
       "    }\n",
       "</style>\n",
       "<table border=\"1\" class=\"dataframe\">\n",
       "  <thead>\n",
       "    <tr style=\"text-align: right;\">\n",
       "      <th>model2</th>\n",
       "      <th>Defect</th>\n",
       "      <th>No Defect</th>\n",
       "    </tr>\n",
       "    <tr>\n",
       "      <th>actual</th>\n",
       "      <th></th>\n",
       "      <th></th>\n",
       "    </tr>\n",
       "  </thead>\n",
       "  <tbody>\n",
       "    <tr>\n",
       "      <th>Defect</th>\n",
       "      <td>9</td>\n",
       "      <td>7</td>\n",
       "    </tr>\n",
       "    <tr>\n",
       "      <th>No Defect</th>\n",
       "      <td>81</td>\n",
       "      <td>103</td>\n",
       "    </tr>\n",
       "  </tbody>\n",
       "</table>\n",
       "</div>"
      ],
      "text/plain": [
       "model2     Defect  No Defect\n",
       "actual                      \n",
       "Defect          9          7\n",
       "No Defect      81        103"
      ]
     },
     "execution_count": 23,
     "metadata": {},
     "output_type": "execute_result"
    }
   ],
   "source": [
    "model_2 = pd.crosstab(c3_df.actual, c3_df.model2)\n",
    "model_2"
   ]
  },
  {
   "cell_type": "code",
   "execution_count": 28,
   "id": "d55f4a32-9283-4257-84a2-f3c48d52c0e3",
   "metadata": {},
   "outputs": [
    {
     "data": {
      "text/plain": [
       "array([[103,  81],\n",
       "       [  7,   9]])"
      ]
     },
     "execution_count": 28,
     "metadata": {},
     "output_type": "execute_result"
    }
   ],
   "source": [
    "confusion_matrix(c3_df.actual, c3_df.model2,\n",
    "                 labels = ('No Defect', 'Defect'))"
   ]
  },
  {
   "cell_type": "code",
   "execution_count": 24,
   "id": "ce08870f-daca-4792-b1f4-7fb91759a8a5",
   "metadata": {},
   "outputs": [
    {
     "data": {
      "text/html": [
       "<div>\n",
       "<style scoped>\n",
       "    .dataframe tbody tr th:only-of-type {\n",
       "        vertical-align: middle;\n",
       "    }\n",
       "\n",
       "    .dataframe tbody tr th {\n",
       "        vertical-align: top;\n",
       "    }\n",
       "\n",
       "    .dataframe thead th {\n",
       "        text-align: right;\n",
       "    }\n",
       "</style>\n",
       "<table border=\"1\" class=\"dataframe\">\n",
       "  <thead>\n",
       "    <tr style=\"text-align: right;\">\n",
       "      <th>model3</th>\n",
       "      <th>Defect</th>\n",
       "      <th>No Defect</th>\n",
       "    </tr>\n",
       "    <tr>\n",
       "      <th>actual</th>\n",
       "      <th></th>\n",
       "      <th></th>\n",
       "    </tr>\n",
       "  </thead>\n",
       "  <tbody>\n",
       "    <tr>\n",
       "      <th>Defect</th>\n",
       "      <td>13</td>\n",
       "      <td>3</td>\n",
       "    </tr>\n",
       "    <tr>\n",
       "      <th>No Defect</th>\n",
       "      <td>86</td>\n",
       "      <td>98</td>\n",
       "    </tr>\n",
       "  </tbody>\n",
       "</table>\n",
       "</div>"
      ],
      "text/plain": [
       "model3     Defect  No Defect\n",
       "actual                      \n",
       "Defect         13          3\n",
       "No Defect      86         98"
      ]
     },
     "execution_count": 24,
     "metadata": {},
     "output_type": "execute_result"
    }
   ],
   "source": [
    "model_3 = pd.crosstab(c3_df.actual, c3_df.model3)\n",
    "model_3"
   ]
  },
  {
   "cell_type": "code",
   "execution_count": 29,
   "id": "2b76f68d-6d19-41bc-b286-0d0603d059fa",
   "metadata": {},
   "outputs": [
    {
     "data": {
      "text/plain": [
       "array([[98, 86],\n",
       "       [ 3, 13]])"
      ]
     },
     "execution_count": 29,
     "metadata": {},
     "output_type": "execute_result"
    }
   ],
   "source": [
    "confusion_matrix(c3_df.actual, c3_df.model3,\n",
    "                 labels = ('No Defect', 'Defect'))"
   ]
  },
  {
   "cell_type": "code",
   "execution_count": 32,
   "id": "ae93b2ec-3823-4109-8b28-6f1900dd5ed0",
   "metadata": {},
   "outputs": [
    {
     "data": {
      "text/plain": [
       "No Defect    184\n",
       "Defect        16\n",
       "Name: actual, dtype: int64"
      ]
     },
     "execution_count": 32,
     "metadata": {},
     "output_type": "execute_result"
    }
   ],
   "source": [
    "c3_df.actual.value_counts()"
   ]
  },
  {
   "cell_type": "code",
   "execution_count": 34,
   "id": "5e5119a1-91a2-4e82-ab31-3f4bf8d99ac6",
   "metadata": {},
   "outputs": [],
   "source": [
    "c3_df['baseline_prediction'] = 'Defect'"
   ]
  },
  {
   "cell_type": "code",
   "execution_count": 35,
   "id": "a9cfe80b-9b29-4aa9-838c-b08fff0bf398",
   "metadata": {},
   "outputs": [
    {
     "data": {
      "text/html": [
       "<div>\n",
       "<style scoped>\n",
       "    .dataframe tbody tr th:only-of-type {\n",
       "        vertical-align: middle;\n",
       "    }\n",
       "\n",
       "    .dataframe tbody tr th {\n",
       "        vertical-align: top;\n",
       "    }\n",
       "\n",
       "    .dataframe thead th {\n",
       "        text-align: right;\n",
       "    }\n",
       "</style>\n",
       "<table border=\"1\" class=\"dataframe\">\n",
       "  <thead>\n",
       "    <tr style=\"text-align: right;\">\n",
       "      <th></th>\n",
       "      <th>actual</th>\n",
       "      <th>model1</th>\n",
       "      <th>model2</th>\n",
       "      <th>model3</th>\n",
       "      <th>baseline_prediction</th>\n",
       "    </tr>\n",
       "  </thead>\n",
       "  <tbody>\n",
       "    <tr>\n",
       "      <th>0</th>\n",
       "      <td>No Defect</td>\n",
       "      <td>No Defect</td>\n",
       "      <td>Defect</td>\n",
       "      <td>No Defect</td>\n",
       "      <td>Defect</td>\n",
       "    </tr>\n",
       "    <tr>\n",
       "      <th>1</th>\n",
       "      <td>No Defect</td>\n",
       "      <td>No Defect</td>\n",
       "      <td>Defect</td>\n",
       "      <td>Defect</td>\n",
       "      <td>Defect</td>\n",
       "    </tr>\n",
       "    <tr>\n",
       "      <th>2</th>\n",
       "      <td>No Defect</td>\n",
       "      <td>No Defect</td>\n",
       "      <td>Defect</td>\n",
       "      <td>No Defect</td>\n",
       "      <td>Defect</td>\n",
       "    </tr>\n",
       "    <tr>\n",
       "      <th>3</th>\n",
       "      <td>No Defect</td>\n",
       "      <td>Defect</td>\n",
       "      <td>Defect</td>\n",
       "      <td>Defect</td>\n",
       "      <td>Defect</td>\n",
       "    </tr>\n",
       "    <tr>\n",
       "      <th>4</th>\n",
       "      <td>No Defect</td>\n",
       "      <td>No Defect</td>\n",
       "      <td>Defect</td>\n",
       "      <td>No Defect</td>\n",
       "      <td>Defect</td>\n",
       "    </tr>\n",
       "  </tbody>\n",
       "</table>\n",
       "</div>"
      ],
      "text/plain": [
       "      actual     model1  model2     model3 baseline_prediction\n",
       "0  No Defect  No Defect  Defect  No Defect              Defect\n",
       "1  No Defect  No Defect  Defect     Defect              Defect\n",
       "2  No Defect  No Defect  Defect  No Defect              Defect\n",
       "3  No Defect     Defect  Defect     Defect              Defect\n",
       "4  No Defect  No Defect  Defect  No Defect              Defect"
      ]
     },
     "execution_count": 35,
     "metadata": {},
     "output_type": "execute_result"
    }
   ],
   "source": [
    "c3_df.head()"
   ]
  },
  {
   "cell_type": "code",
   "execution_count": null,
   "id": "5036b03b-aa04-4fa1-a5cd-54b2c1cc1eec",
   "metadata": {},
   "outputs": [],
   "source": [
    "subset = c3_df"
   ]
  },
  {
   "cell_type": "code",
   "execution_count": 41,
   "id": "db38f89d-d1ca-42e9-963a-6719f8d49092",
   "metadata": {},
   "outputs": [
    {
     "ename": "SyntaxError",
     "evalue": "unexpected EOF while parsing (2637296198.py, line 7)",
     "output_type": "error",
     "traceback": [
      "\u001b[0;36m  Input \u001b[0;32mIn [41]\u001b[0;36m\u001b[0m\n\u001b[0;31m    print(model3_recall\u001b[0m\n\u001b[0m                       ^\u001b[0m\n\u001b[0;31mSyntaxError\u001b[0m\u001b[0;31m:\u001b[0m unexpected EOF while parsing\n"
     ]
    }
   ],
   "source": [
    "model1_recall = (dubset.actual == subset.model1).mean()\n",
    "model2_recall = (dubset.actual == subset.model2).mean()\n",
    "model3_recall = (dubset.actual == subset.model3).mean()\n",
    "\n",
    "print(f\"\"\"Model 1 Recall: {model1_recall:.2%})\n",
    "print(model2_recall:.2%)\n",
    "print(model3_recall:.2%)"
   ]
  },
  {
   "cell_type": "code",
   "execution_count": null,
   "id": "0fb74fb3-7109-4038-a3a9-45a2b0007c6b",
   "metadata": {},
   "outputs": [],
   "source": []
  },
  {
   "cell_type": "code",
   "execution_count": 40,
   "id": "1de7b8a3-f786-4305-a57b-54b543208af1",
   "metadata": {},
   "outputs": [
    {
     "name": "stdout",
     "output_type": "stream",
     "text": [
      "{'model1'}\n",
      "{'model2'}\n",
      "{'model3'}\n"
     ]
    }
   ],
   "source": [
    "col = ('model1', 'model2', 'model3')\n",
    "for i in col:\n",
    "    # Accuracy\n",
    "    (c3_df.actual == c3_df[i]).mean()\n",
    "    print ({i})"
   ]
  },
  {
   "cell_type": "code",
   "execution_count": null,
   "id": "e68d668a-9af8-4758-b9ea-b13d8a033555",
   "metadata": {},
   "outputs": [],
   "source": []
  },
  {
   "cell_type": "markdown",
   "id": "5477dc8b-398b-44af-9dea-9f6e9bd20784",
   "metadata": {},
   "source": [
    "#### • Recently several stories in the local news have come out highlighting customers who received a rubber duck with a defect, and portraying C3 in a bad light. The PR team has decided to launch a program that gives customers with a defective duck a vacation to Hawaii. They need you to predict which ducks will have defects, but tell you the really don't want to accidentally give out a vacation package when the duck really doesn't have a defect. Which evaluation metric would be appropriate here? Which model would be the best fit for this use case?"
   ]
  },
  {
   "cell_type": "markdown",
   "id": "7652814c-fe17-48d0-8b9a-df53a5a0f0fa",
   "metadata": {},
   "source": [
    "• positve case = defect \n",
    "\n",
    "• negative case = no defect"
   ]
  },
  {
   "cell_type": "code",
   "execution_count": null,
   "id": "825b35ad-6e79-49c2-be32-3258bbcfd5e8",
   "metadata": {},
   "outputs": [],
   "source": []
  },
  {
   "cell_type": "code",
   "execution_count": null,
   "id": "cf4ca532-dff9-439b-a397-6e841a278341",
   "metadata": {},
   "outputs": [],
   "source": [
    "# \n",
    "model1_precision = (subset.actual == subset.model1).mean()\n",
    "model1_precision"
   ]
  },
  {
   "cell_type": "code",
   "execution_count": null,
   "id": "923db903-97ad-4fda-ab0b-f5fd5b2d2243",
   "metadata": {},
   "outputs": [],
   "source": [
    "subset2 = c3_df [c3_df.model2 == 'Defect')\n",
    "                 "
   ]
  },
  {
   "cell_type": "code",
   "execution_count": 31,
   "id": "9b53b600-269f-4cb7-96bb-9c68b198f0e2",
   "metadata": {},
   "outputs": [
    {
     "ename": "AttributeError",
     "evalue": "'DataFrame' object has no attribute 'baseline_model1'",
     "output_type": "error",
     "traceback": [
      "\u001b[0;31m---------------------------------------------------------------------------\u001b[0m",
      "\u001b[0;31mAttributeError\u001b[0m                            Traceback (most recent call last)",
      "Input \u001b[0;32mIn [31]\u001b[0m, in \u001b[0;36m<cell line: 2>\u001b[0;34m()\u001b[0m\n\u001b[1;32m      1\u001b[0m model_accuracy \u001b[38;5;241m=\u001b[39m (c3_df\u001b[38;5;241m.\u001b[39mmodel1 \u001b[38;5;241m==\u001b[39m c3_df\u001b[38;5;241m.\u001b[39mactual)\u001b[38;5;241m.\u001b[39mmean()\n\u001b[0;32m----> 2\u001b[0m baseline_accuracy \u001b[38;5;241m=\u001b[39m (\u001b[43mc3_df\u001b[49m\u001b[38;5;241;43m.\u001b[39;49m\u001b[43mbaseline_model1\u001b[49m \u001b[38;5;241m==\u001b[39m c3_df\u001b[38;5;241m.\u001b[39mactual)\u001b[38;5;241m.\u001b[39mmean()\n\u001b[1;32m      4\u001b[0m \u001b[38;5;28mprint\u001b[39m(\u001b[38;5;124mf\u001b[39m\u001b[38;5;124m'\u001b[39m\u001b[38;5;124m   model accuracy: \u001b[39m\u001b[38;5;132;01m{\u001b[39;00mmodel_accuracy\u001b[38;5;132;01m:\u001b[39;00m\u001b[38;5;124m.2%\u001b[39m\u001b[38;5;132;01m}\u001b[39;00m\u001b[38;5;124m'\u001b[39m)\n\u001b[1;32m      5\u001b[0m \u001b[38;5;28mprint\u001b[39m(\u001b[38;5;124mf\u001b[39m\u001b[38;5;124m'\u001b[39m\u001b[38;5;124mbaseline accuracy: \u001b[39m\u001b[38;5;132;01m{\u001b[39;00mbaseline_accuracy\u001b[38;5;132;01m:\u001b[39;00m\u001b[38;5;124m.2%\u001b[39m\u001b[38;5;132;01m}\u001b[39;00m\u001b[38;5;124m'\u001b[39m)\n",
      "File \u001b[0;32m/opt/homebrew/anaconda3/lib/python3.9/site-packages/pandas/core/generic.py:5575\u001b[0m, in \u001b[0;36mNDFrame.__getattr__\u001b[0;34m(self, name)\u001b[0m\n\u001b[1;32m   5568\u001b[0m \u001b[38;5;28;01mif\u001b[39;00m (\n\u001b[1;32m   5569\u001b[0m     name \u001b[38;5;129;01mnot\u001b[39;00m \u001b[38;5;129;01min\u001b[39;00m \u001b[38;5;28mself\u001b[39m\u001b[38;5;241m.\u001b[39m_internal_names_set\n\u001b[1;32m   5570\u001b[0m     \u001b[38;5;129;01mand\u001b[39;00m name \u001b[38;5;129;01mnot\u001b[39;00m \u001b[38;5;129;01min\u001b[39;00m \u001b[38;5;28mself\u001b[39m\u001b[38;5;241m.\u001b[39m_metadata\n\u001b[1;32m   5571\u001b[0m     \u001b[38;5;129;01mand\u001b[39;00m name \u001b[38;5;129;01mnot\u001b[39;00m \u001b[38;5;129;01min\u001b[39;00m \u001b[38;5;28mself\u001b[39m\u001b[38;5;241m.\u001b[39m_accessors\n\u001b[1;32m   5572\u001b[0m     \u001b[38;5;129;01mand\u001b[39;00m \u001b[38;5;28mself\u001b[39m\u001b[38;5;241m.\u001b[39m_info_axis\u001b[38;5;241m.\u001b[39m_can_hold_identifiers_and_holds_name(name)\n\u001b[1;32m   5573\u001b[0m ):\n\u001b[1;32m   5574\u001b[0m     \u001b[38;5;28;01mreturn\u001b[39;00m \u001b[38;5;28mself\u001b[39m[name]\n\u001b[0;32m-> 5575\u001b[0m \u001b[38;5;28;01mreturn\u001b[39;00m \u001b[38;5;28;43mobject\u001b[39;49m\u001b[38;5;241;43m.\u001b[39;49m\u001b[38;5;21;43m__getattribute__\u001b[39;49m\u001b[43m(\u001b[49m\u001b[38;5;28;43mself\u001b[39;49m\u001b[43m,\u001b[49m\u001b[43m \u001b[49m\u001b[43mname\u001b[49m\u001b[43m)\u001b[49m\n",
      "\u001b[0;31mAttributeError\u001b[0m: 'DataFrame' object has no attribute 'baseline_model1'"
     ]
    }
   ],
   "source": [
    "model_accuracy = (c3_df.model1 == c3_df.actual).mean()\n",
    "baseline_accuracy = (c3_df.baseline_model1 == c3_df.actual).mean()\n",
    "\n",
    "print(f'   model accuracy: {model_accuracy:.2%}')\n",
    "print(f'baseline accuracy: {baseline_accuracy:.2%}')"
   ]
  },
  {
   "cell_type": "code",
   "execution_count": null,
   "id": "3f7a52b2-d417-4ff6-97ad-745ae45d72c0",
   "metadata": {},
   "outputs": [],
   "source": []
  }
 ],
 "metadata": {
  "kernelspec": {
   "display_name": "Python 3 (ipykernel)",
   "language": "python",
   "name": "python3"
  },
  "language_info": {
   "codemirror_mode": {
    "name": "ipython",
    "version": 3
   },
   "file_extension": ".py",
   "mimetype": "text/x-python",
   "name": "python",
   "nbconvert_exporter": "python",
   "pygments_lexer": "ipython3",
   "version": "3.9.13"
  }
 },
 "nbformat": 4,
 "nbformat_minor": 5
}
