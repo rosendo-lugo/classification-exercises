{
 "cells": [
  {
   "cell_type": "markdown",
   "id": "16263ae9",
   "metadata": {},
   "source": [
    "# Tidy Data"
   ]
  },
  {
   "cell_type": "markdown",
   "id": "98456bb8",
   "metadata": {},
   "source": [
    "## Exercises"
   ]
  },
  {
   "cell_type": "markdown",
   "id": "ced163b2",
   "metadata": {},
   "source": [
    "#### Do your work for this exercise in a jupyter notebook or python script named tidy_data. Save this work in your classification-exercises repo. Add, commit, and push your changes."
   ]
  },
  {
   "cell_type": "markdown",
   "id": "4065c297",
   "metadata": {},
   "source": [
    "##### 1. Attendance Data\n",
    "\n",
    "Read the data from the attendance table and calculate an attendance percentage for each student. One half day is worth 50% of a full day, and 10 tardies is equal to one absence.\n",
    "\n",
    "You should end up with something like this:\n",
    "\n",
    "\n",
    "    name\n",
    "    Billy    0.5250\n",
    "    Jane     0.6875\n",
    "    John     0.9125\n",
    "    Sally    0.7625\n",
    "    Name: grade, dtype: float64\n"
   ]
  },
  {
   "cell_type": "code",
   "execution_count": null,
   "id": "cde971e2",
   "metadata": {},
   "outputs": [],
   "source": []
  },
  {
   "cell_type": "code",
   "execution_count": null,
   "id": "ba195ae4",
   "metadata": {},
   "outputs": [],
   "source": []
  },
  {
   "cell_type": "markdown",
   "id": "481e3819",
   "metadata": {},
   "source": [
    "##### 2. Coffee Levels"
   ]
  },
  {
   "cell_type": "markdown",
   "id": "09a3a6d3",
   "metadata": {},
   "source": [
    "2a. Read the coffee_levels table."
   ]
  },
  {
   "cell_type": "code",
   "execution_count": null,
   "id": "caf9941f",
   "metadata": {},
   "outputs": [],
   "source": []
  },
  {
   "cell_type": "code",
   "execution_count": null,
   "id": "87c18784",
   "metadata": {},
   "outputs": [],
   "source": []
  },
  {
   "cell_type": "markdown",
   "id": "9cf28227",
   "metadata": {},
   "source": [
    "2b. Transform the data so that each carafe is in it's own column."
   ]
  },
  {
   "cell_type": "code",
   "execution_count": null,
   "id": "91a152e9",
   "metadata": {},
   "outputs": [],
   "source": []
  },
  {
   "cell_type": "code",
   "execution_count": null,
   "id": "0e89ff0f",
   "metadata": {},
   "outputs": [],
   "source": []
  },
  {
   "cell_type": "markdown",
   "id": "c0b9120d",
   "metadata": {},
   "source": [
    "2c. Is this the best shape for the data?"
   ]
  },
  {
   "cell_type": "code",
   "execution_count": null,
   "id": "410b335b",
   "metadata": {},
   "outputs": [],
   "source": []
  },
  {
   "cell_type": "code",
   "execution_count": null,
   "id": "b06bd8d6",
   "metadata": {},
   "outputs": [],
   "source": []
  },
  {
   "cell_type": "markdown",
   "id": "8c059463",
   "metadata": {},
   "source": [
    "###### 3. Cake Recipes"
   ]
  },
  {
   "cell_type": "markdown",
   "id": "be860860",
   "metadata": {},
   "source": [
    "3a. Read the cake_recipes table. This data set contains cake tastiness scores for combinations of different recipes, oven rack positions, and oven temperatures."
   ]
  },
  {
   "cell_type": "code",
   "execution_count": null,
   "id": "60878cee",
   "metadata": {},
   "outputs": [],
   "source": []
  },
  {
   "cell_type": "code",
   "execution_count": null,
   "id": "8ed31aba",
   "metadata": {},
   "outputs": [],
   "source": []
  },
  {
   "cell_type": "markdown",
   "id": "e5a15fca",
   "metadata": {},
   "source": [
    "3b. Tidy the data as necessary."
   ]
  },
  {
   "cell_type": "code",
   "execution_count": null,
   "id": "351a97a5",
   "metadata": {},
   "outputs": [],
   "source": []
  },
  {
   "cell_type": "code",
   "execution_count": null,
   "id": "6ae7641a",
   "metadata": {},
   "outputs": [],
   "source": []
  },
  {
   "cell_type": "markdown",
   "id": "43c0c4df",
   "metadata": {},
   "source": [
    "3c. Which recipe, on average, is the best? **recipe b**"
   ]
  },
  {
   "cell_type": "code",
   "execution_count": null,
   "id": "fe76f00d",
   "metadata": {},
   "outputs": [],
   "source": []
  },
  {
   "cell_type": "code",
   "execution_count": null,
   "id": "59653525",
   "metadata": {},
   "outputs": [],
   "source": []
  },
  {
   "cell_type": "markdown",
   "id": "000f5f0c",
   "metadata": {},
   "source": [
    "3d. Which oven temperature, on average, produces the best results? **275**"
   ]
  },
  {
   "cell_type": "code",
   "execution_count": null,
   "id": "b99297fa",
   "metadata": {},
   "outputs": [],
   "source": []
  },
  {
   "cell_type": "code",
   "execution_count": null,
   "id": "e6203a1a",
   "metadata": {},
   "outputs": [],
   "source": []
  },
  {
   "cell_type": "markdown",
   "id": "6defec17",
   "metadata": {},
   "source": [
    "3e. Which combination of recipe, rack position, and temperature gives the best result? **recipe b, bottom rack, 300 degrees**"
   ]
  },
  {
   "cell_type": "code",
   "execution_count": null,
   "id": "27329148",
   "metadata": {},
   "outputs": [],
   "source": []
  },
  {
   "cell_type": "code",
   "execution_count": null,
   "id": "3f110c83",
   "metadata": {},
   "outputs": [],
   "source": []
  },
  {
   "cell_type": "markdown",
   "id": "3bdf66f1",
   "metadata": {},
   "source": [
    "**Bonus:** explore the other tables in the tidy_data database and reshape them as necessary so that they are in a tidy format."
   ]
  },
  {
   "cell_type": "code",
   "execution_count": null,
   "id": "a4c2809e",
   "metadata": {},
   "outputs": [],
   "source": []
  }
 ],
 "metadata": {
  "kernelspec": {
   "display_name": "Python 3 (ipykernel)",
   "language": "python",
   "name": "python3"
  },
  "language_info": {
   "codemirror_mode": {
    "name": "ipython",
    "version": 3
   },
   "file_extension": ".py",
   "mimetype": "text/x-python",
   "name": "python",
   "nbconvert_exporter": "python",
   "pygments_lexer": "ipython3",
   "version": "3.9.13"
  }
 },
 "nbformat": 4,
 "nbformat_minor": 5
}
