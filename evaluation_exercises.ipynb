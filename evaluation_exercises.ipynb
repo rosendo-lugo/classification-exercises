{
 "cells": [
  {
   "cell_type": "code",
   "execution_count": 1,
   "id": "a65ac53b-2761-4cca-ad55-1831507fead7",
   "metadata": {},
   "outputs": [],
   "source": [
    "import pandas as pd\n",
    "import seaborn as sns"
   ]
  },
  {
   "cell_type": "markdown",
   "id": "cc3e19cf-cf8f-422b-b156-c0b4af5f2a64",
   "metadata": {},
   "source": [
    "# 1. Create a new file named model_evaluation.py or model_evaluation.ipynb for these exercises."
   ]
  },
  {
   "cell_type": "markdown",
   "id": "fe1ae772-dc1b-4c75-8d91-3de0c7655ceb",
   "metadata": {},
   "source": [
    "# 2. Given the following confusion matrix, evaluate (by hand) the model's performance."
   ]
  },
  {
   "cell_type": "markdown",
   "id": "5fcb44dd-8433-41a6-a56b-177fb6cd72a8",
   "metadata": {},
   "source": [
    "|               | pred dog   | pred cat   |\n",
    "|:------------  |-----------:|-----------:|\n",
    "| actual dog    |         46 |         7  |\n",
    "| actual cat    |         13 |         34 |\n"
   ]
  },
  {
   "cell_type": "markdown",
   "id": "d0e07395-6bd4-429f-b100-e2a896b14376",
   "metadata": {},
   "source": [
    "- positive class: Dog pic\n",
    "\n",
    "- negative class: Cat pic"
   ]
  },
  {
   "cell_type": "markdown",
   "id": "a7d23f56-823d-4852-9e6c-c3ef3bcd892c",
   "metadata": {},
   "source": [
    "## 2.1  In the context of this problem, what is a false positive?"
   ]
  },
  {
   "cell_type": "markdown",
   "id": "b2a1a12e-7d03-45d0-b0ae-78e66531dc9b",
   "metadata": {},
   "source": [
    "**FP**: We predict dog & actually get a cat"
   ]
  },
  {
   "cell_type": "markdown",
   "id": "89272490-c8d3-4fb3-969d-272d00a5f020",
   "metadata": {},
   "source": [
    "## 2.2  In the context of this problem, what is a false negative?"
   ]
  },
  {
   "cell_type": "markdown",
   "id": "135a8893-6233-4c17-86a8-2a5888270dd6",
   "metadata": {},
   "source": [
    "**FN**: We predict cat & actually get a dog"
   ]
  },
  {
   "cell_type": "markdown",
   "id": "e21de8d3-3b99-48db-a033-b7b9335cff8a",
   "metadata": {},
   "source": [
    "|               | pred dog   | pred cat   |\n",
    "|:------------  |-----------:|-----------:|\n",
    "| actual dog    |         46 |         7  |\n",
    "| actual cat    |         13 |         34 |\n"
   ]
  },
  {
   "cell_type": "markdown",
   "id": "ddf3fa8c-a4d4-40df-a25a-c1f3c9f3ad13",
   "metadata": {},
   "source": [
    "## 2.3  How would you describe this model?"
   ]
  },
  {
   "cell_type": "code",
   "execution_count": 2,
   "id": "1fb77678-73fb-45f9-a74d-d5079f71ab7b",
   "metadata": {},
   "outputs": [],
   "source": [
    "#TP: We predict dog & it's actually dog\n",
    "tp= 46\n",
    "#TN: We predict cat & it's actually cat\n",
    "tn= 34\n",
    "#FP: We predict dog  & it's actually cat\n",
    "fp=13\n",
    "#FN: We predict cat & it's actually dog\n",
    "fn=7"
   ]
  },
  {
   "cell_type": "code",
   "execution_count": 3,
   "id": "6765ac80-1c57-4478-81cf-ddebcf957fbe",
   "metadata": {},
   "outputs": [
    {
     "name": "stdout",
     "output_type": "stream",
     "text": [
      "Dog-classifier (where 'DOG' is the positive prediction)\n",
      "\n",
      "True Positives: 46\n",
      "False Positives: 13\n",
      "False Negatives: 7\n",
      "True Negatives: 34\n",
      "______________________\n",
      "\n",
      "Baseline is: Dog - highest frequency\n",
      "Accuracy is: 0.8\n",
      "Recall is: 0.8679245283018868\n",
      "Precision is: 0.7796610169491526\n",
      "\n"
     ]
    }
   ],
   "source": [
    "accuracy = (tp + tn) / (tp + tn + fp + fn)\n",
    "\n",
    "recall = tp / (tp + fn)\n",
    "\n",
    "precision = tp / (tp + fp)\n",
    "\n",
    "print(f\"\"\"Dog-classifier (where 'DOG' is the positive prediction)\n",
    "\n",
    "True Positives: {tp}\n",
    "False Positives: {fp}\n",
    "False Negatives: {fn}\n",
    "True Negatives: {tn}\n",
    "______________________\n",
    "\n",
    "Baseline is: Dog - highest frequency\n",
    "Accuracy is: {accuracy}\n",
    "Recall is: {recall}\n",
    "Precision is: {precision}\n",
    "\"\"\")"
   ]
  },
  {
   "cell_type": "markdown",
   "id": "f0396460-22bd-4bf2-84f6-7589f2503415",
   "metadata": {
    "tags": []
   },
   "source": [
    "# 3. You are working as a data scientist working for Codeup Cody Creator (C3 for short), a rubber-duck manufacturing plant.\n",
    "\n",
    "Unfortunately, some of the rubber ducks that are produced will have defects. Your team has built several models that try to predict those defects, and the data from their predictions <a href = \"https://ds.codeup.com/data/c3.csv\">can be found here</a>."
   ]
  },
  {
   "cell_type": "markdown",
   "id": "2ef9023c-f5e6-46c7-a526-b8182b31eff4",
   "metadata": {
    "tags": []
   },
   "source": [
    "## 3.1  An internal team wants to investigate the cause of the manufacturing defects. They tell you that they want to identify as many of the ducks that have a **defect** as possible. Which evaluation metric would be appropriate here? Which model would be the best fit for this use case?"
   ]
  },
  {
   "cell_type": "code",
   "execution_count": 4,
   "id": "a230039a-c58e-46f9-929d-35bc335f88d5",
   "metadata": {},
   "outputs": [
    {
     "ename": "FileNotFoundError",
     "evalue": "[Errno 2] No such file or directory: '/Users/rosendo/Downloads/c3.csv'",
     "output_type": "error",
     "traceback": [
      "\u001b[0;31m---------------------------------------------------------------------------\u001b[0m",
      "\u001b[0;31mFileNotFoundError\u001b[0m                         Traceback (most recent call last)",
      "Input \u001b[0;32mIn [4]\u001b[0m, in \u001b[0;36m<cell line: 2>\u001b[0;34m()\u001b[0m\n\u001b[1;32m      1\u001b[0m \u001b[38;5;66;03m#bring in the csv provided in the curriculum exercises\u001b[39;00m\n\u001b[0;32m----> 2\u001b[0m cody_df \u001b[38;5;241m=\u001b[39m \u001b[43mpd\u001b[49m\u001b[38;5;241;43m.\u001b[39;49m\u001b[43mread_csv\u001b[49m\u001b[43m(\u001b[49m\u001b[38;5;124;43m'\u001b[39;49m\u001b[38;5;124;43m~/Downloads/c3.csv\u001b[39;49m\u001b[38;5;124;43m'\u001b[39;49m\u001b[43m)\u001b[49m\n",
      "File \u001b[0;32m/opt/homebrew/anaconda3/lib/python3.9/site-packages/pandas/util/_decorators.py:311\u001b[0m, in \u001b[0;36mdeprecate_nonkeyword_arguments.<locals>.decorate.<locals>.wrapper\u001b[0;34m(*args, **kwargs)\u001b[0m\n\u001b[1;32m    305\u001b[0m \u001b[38;5;28;01mif\u001b[39;00m \u001b[38;5;28mlen\u001b[39m(args) \u001b[38;5;241m>\u001b[39m num_allow_args:\n\u001b[1;32m    306\u001b[0m     warnings\u001b[38;5;241m.\u001b[39mwarn(\n\u001b[1;32m    307\u001b[0m         msg\u001b[38;5;241m.\u001b[39mformat(arguments\u001b[38;5;241m=\u001b[39marguments),\n\u001b[1;32m    308\u001b[0m         \u001b[38;5;167;01mFutureWarning\u001b[39;00m,\n\u001b[1;32m    309\u001b[0m         stacklevel\u001b[38;5;241m=\u001b[39mstacklevel,\n\u001b[1;32m    310\u001b[0m     )\n\u001b[0;32m--> 311\u001b[0m \u001b[38;5;28;01mreturn\u001b[39;00m \u001b[43mfunc\u001b[49m\u001b[43m(\u001b[49m\u001b[38;5;241;43m*\u001b[39;49m\u001b[43margs\u001b[49m\u001b[43m,\u001b[49m\u001b[43m \u001b[49m\u001b[38;5;241;43m*\u001b[39;49m\u001b[38;5;241;43m*\u001b[39;49m\u001b[43mkwargs\u001b[49m\u001b[43m)\u001b[49m\n",
      "File \u001b[0;32m/opt/homebrew/anaconda3/lib/python3.9/site-packages/pandas/io/parsers/readers.py:678\u001b[0m, in \u001b[0;36mread_csv\u001b[0;34m(filepath_or_buffer, sep, delimiter, header, names, index_col, usecols, squeeze, prefix, mangle_dupe_cols, dtype, engine, converters, true_values, false_values, skipinitialspace, skiprows, skipfooter, nrows, na_values, keep_default_na, na_filter, verbose, skip_blank_lines, parse_dates, infer_datetime_format, keep_date_col, date_parser, dayfirst, cache_dates, iterator, chunksize, compression, thousands, decimal, lineterminator, quotechar, quoting, doublequote, escapechar, comment, encoding, encoding_errors, dialect, error_bad_lines, warn_bad_lines, on_bad_lines, delim_whitespace, low_memory, memory_map, float_precision, storage_options)\u001b[0m\n\u001b[1;32m    663\u001b[0m kwds_defaults \u001b[38;5;241m=\u001b[39m _refine_defaults_read(\n\u001b[1;32m    664\u001b[0m     dialect,\n\u001b[1;32m    665\u001b[0m     delimiter,\n\u001b[0;32m   (...)\u001b[0m\n\u001b[1;32m    674\u001b[0m     defaults\u001b[38;5;241m=\u001b[39m{\u001b[38;5;124m\"\u001b[39m\u001b[38;5;124mdelimiter\u001b[39m\u001b[38;5;124m\"\u001b[39m: \u001b[38;5;124m\"\u001b[39m\u001b[38;5;124m,\u001b[39m\u001b[38;5;124m\"\u001b[39m},\n\u001b[1;32m    675\u001b[0m )\n\u001b[1;32m    676\u001b[0m kwds\u001b[38;5;241m.\u001b[39mupdate(kwds_defaults)\n\u001b[0;32m--> 678\u001b[0m \u001b[38;5;28;01mreturn\u001b[39;00m \u001b[43m_read\u001b[49m\u001b[43m(\u001b[49m\u001b[43mfilepath_or_buffer\u001b[49m\u001b[43m,\u001b[49m\u001b[43m \u001b[49m\u001b[43mkwds\u001b[49m\u001b[43m)\u001b[49m\n",
      "File \u001b[0;32m/opt/homebrew/anaconda3/lib/python3.9/site-packages/pandas/io/parsers/readers.py:575\u001b[0m, in \u001b[0;36m_read\u001b[0;34m(filepath_or_buffer, kwds)\u001b[0m\n\u001b[1;32m    572\u001b[0m _validate_names(kwds\u001b[38;5;241m.\u001b[39mget(\u001b[38;5;124m\"\u001b[39m\u001b[38;5;124mnames\u001b[39m\u001b[38;5;124m\"\u001b[39m, \u001b[38;5;28;01mNone\u001b[39;00m))\n\u001b[1;32m    574\u001b[0m \u001b[38;5;66;03m# Create the parser.\u001b[39;00m\n\u001b[0;32m--> 575\u001b[0m parser \u001b[38;5;241m=\u001b[39m \u001b[43mTextFileReader\u001b[49m\u001b[43m(\u001b[49m\u001b[43mfilepath_or_buffer\u001b[49m\u001b[43m,\u001b[49m\u001b[43m \u001b[49m\u001b[38;5;241;43m*\u001b[39;49m\u001b[38;5;241;43m*\u001b[39;49m\u001b[43mkwds\u001b[49m\u001b[43m)\u001b[49m\n\u001b[1;32m    577\u001b[0m \u001b[38;5;28;01mif\u001b[39;00m chunksize \u001b[38;5;129;01mor\u001b[39;00m iterator:\n\u001b[1;32m    578\u001b[0m     \u001b[38;5;28;01mreturn\u001b[39;00m parser\n",
      "File \u001b[0;32m/opt/homebrew/anaconda3/lib/python3.9/site-packages/pandas/io/parsers/readers.py:932\u001b[0m, in \u001b[0;36mTextFileReader.__init__\u001b[0;34m(self, f, engine, **kwds)\u001b[0m\n\u001b[1;32m    929\u001b[0m     \u001b[38;5;28mself\u001b[39m\u001b[38;5;241m.\u001b[39moptions[\u001b[38;5;124m\"\u001b[39m\u001b[38;5;124mhas_index_names\u001b[39m\u001b[38;5;124m\"\u001b[39m] \u001b[38;5;241m=\u001b[39m kwds[\u001b[38;5;124m\"\u001b[39m\u001b[38;5;124mhas_index_names\u001b[39m\u001b[38;5;124m\"\u001b[39m]\n\u001b[1;32m    931\u001b[0m \u001b[38;5;28mself\u001b[39m\u001b[38;5;241m.\u001b[39mhandles: IOHandles \u001b[38;5;241m|\u001b[39m \u001b[38;5;28;01mNone\u001b[39;00m \u001b[38;5;241m=\u001b[39m \u001b[38;5;28;01mNone\u001b[39;00m\n\u001b[0;32m--> 932\u001b[0m \u001b[38;5;28mself\u001b[39m\u001b[38;5;241m.\u001b[39m_engine \u001b[38;5;241m=\u001b[39m \u001b[38;5;28;43mself\u001b[39;49m\u001b[38;5;241;43m.\u001b[39;49m\u001b[43m_make_engine\u001b[49m\u001b[43m(\u001b[49m\u001b[43mf\u001b[49m\u001b[43m,\u001b[49m\u001b[43m \u001b[49m\u001b[38;5;28;43mself\u001b[39;49m\u001b[38;5;241;43m.\u001b[39;49m\u001b[43mengine\u001b[49m\u001b[43m)\u001b[49m\n",
      "File \u001b[0;32m/opt/homebrew/anaconda3/lib/python3.9/site-packages/pandas/io/parsers/readers.py:1216\u001b[0m, in \u001b[0;36mTextFileReader._make_engine\u001b[0;34m(self, f, engine)\u001b[0m\n\u001b[1;32m   1212\u001b[0m     mode \u001b[38;5;241m=\u001b[39m \u001b[38;5;124m\"\u001b[39m\u001b[38;5;124mrb\u001b[39m\u001b[38;5;124m\"\u001b[39m\n\u001b[1;32m   1213\u001b[0m \u001b[38;5;66;03m# error: No overload variant of \"get_handle\" matches argument types\u001b[39;00m\n\u001b[1;32m   1214\u001b[0m \u001b[38;5;66;03m# \"Union[str, PathLike[str], ReadCsvBuffer[bytes], ReadCsvBuffer[str]]\"\u001b[39;00m\n\u001b[1;32m   1215\u001b[0m \u001b[38;5;66;03m# , \"str\", \"bool\", \"Any\", \"Any\", \"Any\", \"Any\", \"Any\"\u001b[39;00m\n\u001b[0;32m-> 1216\u001b[0m \u001b[38;5;28mself\u001b[39m\u001b[38;5;241m.\u001b[39mhandles \u001b[38;5;241m=\u001b[39m \u001b[43mget_handle\u001b[49m\u001b[43m(\u001b[49m\u001b[43m  \u001b[49m\u001b[38;5;66;43;03m# type: ignore[call-overload]\u001b[39;49;00m\n\u001b[1;32m   1217\u001b[0m \u001b[43m    \u001b[49m\u001b[43mf\u001b[49m\u001b[43m,\u001b[49m\n\u001b[1;32m   1218\u001b[0m \u001b[43m    \u001b[49m\u001b[43mmode\u001b[49m\u001b[43m,\u001b[49m\n\u001b[1;32m   1219\u001b[0m \u001b[43m    \u001b[49m\u001b[43mencoding\u001b[49m\u001b[38;5;241;43m=\u001b[39;49m\u001b[38;5;28;43mself\u001b[39;49m\u001b[38;5;241;43m.\u001b[39;49m\u001b[43moptions\u001b[49m\u001b[38;5;241;43m.\u001b[39;49m\u001b[43mget\u001b[49m\u001b[43m(\u001b[49m\u001b[38;5;124;43m\"\u001b[39;49m\u001b[38;5;124;43mencoding\u001b[39;49m\u001b[38;5;124;43m\"\u001b[39;49m\u001b[43m,\u001b[49m\u001b[43m \u001b[49m\u001b[38;5;28;43;01mNone\u001b[39;49;00m\u001b[43m)\u001b[49m\u001b[43m,\u001b[49m\n\u001b[1;32m   1220\u001b[0m \u001b[43m    \u001b[49m\u001b[43mcompression\u001b[49m\u001b[38;5;241;43m=\u001b[39;49m\u001b[38;5;28;43mself\u001b[39;49m\u001b[38;5;241;43m.\u001b[39;49m\u001b[43moptions\u001b[49m\u001b[38;5;241;43m.\u001b[39;49m\u001b[43mget\u001b[49m\u001b[43m(\u001b[49m\u001b[38;5;124;43m\"\u001b[39;49m\u001b[38;5;124;43mcompression\u001b[39;49m\u001b[38;5;124;43m\"\u001b[39;49m\u001b[43m,\u001b[49m\u001b[43m \u001b[49m\u001b[38;5;28;43;01mNone\u001b[39;49;00m\u001b[43m)\u001b[49m\u001b[43m,\u001b[49m\n\u001b[1;32m   1221\u001b[0m \u001b[43m    \u001b[49m\u001b[43mmemory_map\u001b[49m\u001b[38;5;241;43m=\u001b[39;49m\u001b[38;5;28;43mself\u001b[39;49m\u001b[38;5;241;43m.\u001b[39;49m\u001b[43moptions\u001b[49m\u001b[38;5;241;43m.\u001b[39;49m\u001b[43mget\u001b[49m\u001b[43m(\u001b[49m\u001b[38;5;124;43m\"\u001b[39;49m\u001b[38;5;124;43mmemory_map\u001b[39;49m\u001b[38;5;124;43m\"\u001b[39;49m\u001b[43m,\u001b[49m\u001b[43m \u001b[49m\u001b[38;5;28;43;01mFalse\u001b[39;49;00m\u001b[43m)\u001b[49m\u001b[43m,\u001b[49m\n\u001b[1;32m   1222\u001b[0m \u001b[43m    \u001b[49m\u001b[43mis_text\u001b[49m\u001b[38;5;241;43m=\u001b[39;49m\u001b[43mis_text\u001b[49m\u001b[43m,\u001b[49m\n\u001b[1;32m   1223\u001b[0m \u001b[43m    \u001b[49m\u001b[43merrors\u001b[49m\u001b[38;5;241;43m=\u001b[39;49m\u001b[38;5;28;43mself\u001b[39;49m\u001b[38;5;241;43m.\u001b[39;49m\u001b[43moptions\u001b[49m\u001b[38;5;241;43m.\u001b[39;49m\u001b[43mget\u001b[49m\u001b[43m(\u001b[49m\u001b[38;5;124;43m\"\u001b[39;49m\u001b[38;5;124;43mencoding_errors\u001b[39;49m\u001b[38;5;124;43m\"\u001b[39;49m\u001b[43m,\u001b[49m\u001b[43m \u001b[49m\u001b[38;5;124;43m\"\u001b[39;49m\u001b[38;5;124;43mstrict\u001b[39;49m\u001b[38;5;124;43m\"\u001b[39;49m\u001b[43m)\u001b[49m\u001b[43m,\u001b[49m\n\u001b[1;32m   1224\u001b[0m \u001b[43m    \u001b[49m\u001b[43mstorage_options\u001b[49m\u001b[38;5;241;43m=\u001b[39;49m\u001b[38;5;28;43mself\u001b[39;49m\u001b[38;5;241;43m.\u001b[39;49m\u001b[43moptions\u001b[49m\u001b[38;5;241;43m.\u001b[39;49m\u001b[43mget\u001b[49m\u001b[43m(\u001b[49m\u001b[38;5;124;43m\"\u001b[39;49m\u001b[38;5;124;43mstorage_options\u001b[39;49m\u001b[38;5;124;43m\"\u001b[39;49m\u001b[43m,\u001b[49m\u001b[43m \u001b[49m\u001b[38;5;28;43;01mNone\u001b[39;49;00m\u001b[43m)\u001b[49m\u001b[43m,\u001b[49m\n\u001b[1;32m   1225\u001b[0m \u001b[43m\u001b[49m\u001b[43m)\u001b[49m\n\u001b[1;32m   1226\u001b[0m \u001b[38;5;28;01massert\u001b[39;00m \u001b[38;5;28mself\u001b[39m\u001b[38;5;241m.\u001b[39mhandles \u001b[38;5;129;01mis\u001b[39;00m \u001b[38;5;129;01mnot\u001b[39;00m \u001b[38;5;28;01mNone\u001b[39;00m\n\u001b[1;32m   1227\u001b[0m f \u001b[38;5;241m=\u001b[39m \u001b[38;5;28mself\u001b[39m\u001b[38;5;241m.\u001b[39mhandles\u001b[38;5;241m.\u001b[39mhandle\n",
      "File \u001b[0;32m/opt/homebrew/anaconda3/lib/python3.9/site-packages/pandas/io/common.py:786\u001b[0m, in \u001b[0;36mget_handle\u001b[0;34m(path_or_buf, mode, encoding, compression, memory_map, is_text, errors, storage_options)\u001b[0m\n\u001b[1;32m    781\u001b[0m \u001b[38;5;28;01melif\u001b[39;00m \u001b[38;5;28misinstance\u001b[39m(handle, \u001b[38;5;28mstr\u001b[39m):\n\u001b[1;32m    782\u001b[0m     \u001b[38;5;66;03m# Check whether the filename is to be opened in binary mode.\u001b[39;00m\n\u001b[1;32m    783\u001b[0m     \u001b[38;5;66;03m# Binary mode does not support 'encoding' and 'newline'.\u001b[39;00m\n\u001b[1;32m    784\u001b[0m     \u001b[38;5;28;01mif\u001b[39;00m ioargs\u001b[38;5;241m.\u001b[39mencoding \u001b[38;5;129;01mand\u001b[39;00m \u001b[38;5;124m\"\u001b[39m\u001b[38;5;124mb\u001b[39m\u001b[38;5;124m\"\u001b[39m \u001b[38;5;129;01mnot\u001b[39;00m \u001b[38;5;129;01min\u001b[39;00m ioargs\u001b[38;5;241m.\u001b[39mmode:\n\u001b[1;32m    785\u001b[0m         \u001b[38;5;66;03m# Encoding\u001b[39;00m\n\u001b[0;32m--> 786\u001b[0m         handle \u001b[38;5;241m=\u001b[39m \u001b[38;5;28;43mopen\u001b[39;49m\u001b[43m(\u001b[49m\n\u001b[1;32m    787\u001b[0m \u001b[43m            \u001b[49m\u001b[43mhandle\u001b[49m\u001b[43m,\u001b[49m\n\u001b[1;32m    788\u001b[0m \u001b[43m            \u001b[49m\u001b[43mioargs\u001b[49m\u001b[38;5;241;43m.\u001b[39;49m\u001b[43mmode\u001b[49m\u001b[43m,\u001b[49m\n\u001b[1;32m    789\u001b[0m \u001b[43m            \u001b[49m\u001b[43mencoding\u001b[49m\u001b[38;5;241;43m=\u001b[39;49m\u001b[43mioargs\u001b[49m\u001b[38;5;241;43m.\u001b[39;49m\u001b[43mencoding\u001b[49m\u001b[43m,\u001b[49m\n\u001b[1;32m    790\u001b[0m \u001b[43m            \u001b[49m\u001b[43merrors\u001b[49m\u001b[38;5;241;43m=\u001b[39;49m\u001b[43merrors\u001b[49m\u001b[43m,\u001b[49m\n\u001b[1;32m    791\u001b[0m \u001b[43m            \u001b[49m\u001b[43mnewline\u001b[49m\u001b[38;5;241;43m=\u001b[39;49m\u001b[38;5;124;43m\"\u001b[39;49m\u001b[38;5;124;43m\"\u001b[39;49m\u001b[43m,\u001b[49m\n\u001b[1;32m    792\u001b[0m \u001b[43m        \u001b[49m\u001b[43m)\u001b[49m\n\u001b[1;32m    793\u001b[0m     \u001b[38;5;28;01melse\u001b[39;00m:\n\u001b[1;32m    794\u001b[0m         \u001b[38;5;66;03m# Binary mode\u001b[39;00m\n\u001b[1;32m    795\u001b[0m         handle \u001b[38;5;241m=\u001b[39m \u001b[38;5;28mopen\u001b[39m(handle, ioargs\u001b[38;5;241m.\u001b[39mmode)\n",
      "\u001b[0;31mFileNotFoundError\u001b[0m: [Errno 2] No such file or directory: '/Users/rosendo/Downloads/c3.csv'"
     ]
    }
   ],
   "source": [
    "#bring in the csv provided in the curriculum exercises\n",
    "cody_df = pd.read_csv('~/Downloads/c3.csv')"
   ]
  },
  {
   "cell_type": "code",
   "execution_count": null,
   "id": "efd1127a-fa2e-4da6-909b-d08d3ac1429a",
   "metadata": {},
   "outputs": [],
   "source": [
    "#take a look at the data\n",
    "cody_df.head()"
   ]
  },
  {
   "cell_type": "code",
   "execution_count": null,
   "id": "ae4d772f-4eaa-4ecd-a1dc-c16bee0bb800",
   "metadata": {},
   "outputs": [],
   "source": [
    "#what kind of columns and dtypes are we dealing with?\n",
    "cody_df.info()"
   ]
  },
  {
   "cell_type": "code",
   "execution_count": 5,
   "id": "4175f0df-6ea4-4705-8b18-e6a289225ec4",
   "metadata": {},
   "outputs": [
    {
     "ename": "NameError",
     "evalue": "name 'cody_df' is not defined",
     "output_type": "error",
     "traceback": [
      "\u001b[0;31m---------------------------------------------------------------------------\u001b[0m",
      "\u001b[0;31mNameError\u001b[0m                                 Traceback (most recent call last)",
      "Input \u001b[0;32mIn [5]\u001b[0m, in \u001b[0;36m<cell line: 2>\u001b[0;34m()\u001b[0m\n\u001b[1;32m      1\u001b[0m \u001b[38;5;66;03m#how many defects and non-defects do we have in the actual data?\u001b[39;00m\n\u001b[0;32m----> 2\u001b[0m \u001b[43mcody_df\u001b[49m\u001b[38;5;241m.\u001b[39mactual\u001b[38;5;241m.\u001b[39mvalue_counts()\n",
      "\u001b[0;31mNameError\u001b[0m: name 'cody_df' is not defined"
     ]
    }
   ],
   "source": [
    "#how many defects and non-defects do we have in the actual data?\n",
    "cody_df.actual.value_counts()"
   ]
  },
  {
   "cell_type": "markdown",
   "id": "b864e6e0-ae32-4919-ab8e-1f81e55008c3",
   "metadata": {
    "tags": []
   },
   "source": [
    "Since we are interested in 'defects', we will asssign it as 'positive class' for the classifier.\n",
    "<br>\n",
    "- defects = positive class\n",
    "- no defect = negative class\n",
    "<br>\n",
    "\n",
    "Quality Control, our internal customer, wants the metric to identify as many defective ducks as possible\n",
    "<br>\n",
    "\n",
    "Our best metric for Quality Control here is <b>recall</b>\n",
    "<br>\n",
    "\n",
    "- i.e how many real positives do we have?\n",
    "- i.e how many of defective ducks are actually flagged by defective (positive) by the models?\n",
    "- i.e let's minimize our false negatives\n"
   ]
  },
  {
   "cell_type": "code",
   "execution_count": 6,
   "id": "dcde8a85-440a-4151-bcbb-c2f5c1effc48",
   "metadata": {},
   "outputs": [
    {
     "ename": "NameError",
     "evalue": "name 'cody_df' is not defined",
     "output_type": "error",
     "traceback": [
      "\u001b[0;31m---------------------------------------------------------------------------\u001b[0m",
      "\u001b[0;31mNameError\u001b[0m                                 Traceback (most recent call last)",
      "Input \u001b[0;32mIn [6]\u001b[0m, in \u001b[0;36m<cell line: 3>\u001b[0;34m()\u001b[0m\n\u001b[1;32m      1\u001b[0m \u001b[38;5;66;03m#model positives\u001b[39;00m\n\u001b[0;32m----> 3\u001b[0m subset \u001b[38;5;241m=\u001b[39m \u001b[43mcody_df\u001b[49m[cody_df\u001b[38;5;241m.\u001b[39mactual \u001b[38;5;241m==\u001b[39m \u001b[38;5;124m\"\u001b[39m\u001b[38;5;124mDefect\u001b[39m\u001b[38;5;124m\"\u001b[39m]\n\u001b[1;32m      4\u001b[0m subset\n",
      "\u001b[0;31mNameError\u001b[0m: name 'cody_df' is not defined"
     ]
    }
   ],
   "source": [
    "#model positives\n",
    "\n",
    "subset = cody_df[cody_df.actual == \"Defect\"]\n",
    "subset"
   ]
  },
  {
   "cell_type": "code",
   "execution_count": 7,
   "id": "b6ab6d76-3460-487a-a55b-d12559fade1b",
   "metadata": {},
   "outputs": [
    {
     "ename": "NameError",
     "evalue": "name 'subset' is not defined",
     "output_type": "error",
     "traceback": [
      "\u001b[0;31m---------------------------------------------------------------------------\u001b[0m",
      "\u001b[0;31mNameError\u001b[0m                                 Traceback (most recent call last)",
      "Input \u001b[0;32mIn [7]\u001b[0m, in \u001b[0;36m<cell line: 2>\u001b[0;34m()\u001b[0m\n\u001b[1;32m      1\u001b[0m \u001b[38;5;66;03m#Model1 Recall\u001b[39;00m\n\u001b[0;32m----> 2\u001b[0m model1_recall \u001b[38;5;241m=\u001b[39m (\u001b[43msubset\u001b[49m\u001b[38;5;241m.\u001b[39mactual \u001b[38;5;241m==\u001b[39m subset\u001b[38;5;241m.\u001b[39mmodel1)\u001b[38;5;241m.\u001b[39mmean()\n\u001b[1;32m      4\u001b[0m \u001b[38;5;66;03m# Model 2 recall\u001b[39;00m\n\u001b[1;32m      5\u001b[0m model2_recall \u001b[38;5;241m=\u001b[39m (subset\u001b[38;5;241m.\u001b[39mactual \u001b[38;5;241m==\u001b[39m subset\u001b[38;5;241m.\u001b[39mmodel2)\u001b[38;5;241m.\u001b[39mmean()\n",
      "\u001b[0;31mNameError\u001b[0m: name 'subset' is not defined"
     ]
    }
   ],
   "source": [
    "#Model1 Recall\n",
    "model1_recall = (subset.actual == subset.model1).mean()\n",
    "\n",
    "# Model 2 recall\n",
    "model2_recall = (subset.actual == subset.model2).mean()\n",
    "\n",
    "# Model 3 recall\n",
    "model3_recall = (subset.actual == subset.model3).mean()\n",
    "\n",
    "print(f\"\"\"Model 1 Recall: {model1_recall:.2%}\n",
    "Model 2 Recall: {model2_recall:.2%}\n",
    "Model 3 Recall: {model3_recall:.2%}\n",
    "\"\"\")"
   ]
  },
  {
   "cell_type": "markdown",
   "id": "491a2f20-5cba-443b-a474-cac8bd721672",
   "metadata": {},
   "source": [
    "<div class=\"alert alert-block alert-success\">\n",
    "    <b>Takeaways:</b>\n",
    "        <br>\n",
    "        <br>\n",
    "-- Quality Control should select a model with higher recall (to avoid false negatives)\n",
    "<br>\n",
    "    -- Quality Control should use <b>Model 3</b>\n",
    "</div>"
   ]
  },
  {
   "cell_type": "code",
   "execution_count": null,
   "id": "789ddd06-c7bb-46a4-b103-5b58e68d6aa4",
   "metadata": {},
   "outputs": [],
   "source": []
  },
  {
   "cell_type": "markdown",
   "id": "aab80a6e-0e65-49cc-b3f0-9dcf7a8a179f",
   "metadata": {},
   "source": [
    "## 3.2 Recently several stories in the local news have come out highlighting customers who received a rubber duck with a defect, and portraying C3 in a bad light. \n",
    "The PR team has decided to launch a program that gives customers with a defective duck a vacation to Hawaii. They need you to **predict which ducks will have defects**, but tell you they really don't want to accidentally give out a vacation package when the duck really doesn't have a defect. \n",
    "<br>\n",
    "Which evaluation metric would be appropriate here? Which model would be the best fit for this use case?"
   ]
  },
  {
   "cell_type": "markdown",
   "id": "da1c0c60-0e5c-4f83-a885-e2fdd21a4658",
   "metadata": {},
   "source": [
    "- positive case = defect \n",
    "- negative case = no defect"
   ]
  },
  {
   "cell_type": "code",
   "execution_count": 10,
   "id": "e1d2e1ff-2306-4824-a77e-a52bb1610d8d",
   "metadata": {},
   "outputs": [
    {
     "data": {
      "text/html": [
       "<div>\n",
       "<style scoped>\n",
       "    .dataframe tbody tr th:only-of-type {\n",
       "        vertical-align: middle;\n",
       "    }\n",
       "\n",
       "    .dataframe tbody tr th {\n",
       "        vertical-align: top;\n",
       "    }\n",
       "\n",
       "    .dataframe thead th {\n",
       "        text-align: right;\n",
       "    }\n",
       "</style>\n",
       "<table border=\"1\" class=\"dataframe\">\n",
       "  <thead>\n",
       "    <tr style=\"text-align: right;\">\n",
       "      <th></th>\n",
       "      <th>actual</th>\n",
       "      <th>model1</th>\n",
       "      <th>model2</th>\n",
       "      <th>model3</th>\n",
       "    </tr>\n",
       "  </thead>\n",
       "  <tbody>\n",
       "    <tr>\n",
       "      <th>3</th>\n",
       "      <td>No Defect</td>\n",
       "      <td>Defect</td>\n",
       "      <td>Defect</td>\n",
       "      <td>Defect</td>\n",
       "    </tr>\n",
       "    <tr>\n",
       "      <th>30</th>\n",
       "      <td>Defect</td>\n",
       "      <td>Defect</td>\n",
       "      <td>No Defect</td>\n",
       "      <td>Defect</td>\n",
       "    </tr>\n",
       "    <tr>\n",
       "      <th>62</th>\n",
       "      <td>No Defect</td>\n",
       "      <td>Defect</td>\n",
       "      <td>No Defect</td>\n",
       "      <td>No Defect</td>\n",
       "    </tr>\n",
       "    <tr>\n",
       "      <th>65</th>\n",
       "      <td>Defect</td>\n",
       "      <td>Defect</td>\n",
       "      <td>Defect</td>\n",
       "      <td>Defect</td>\n",
       "    </tr>\n",
       "    <tr>\n",
       "      <th>70</th>\n",
       "      <td>Defect</td>\n",
       "      <td>Defect</td>\n",
       "      <td>Defect</td>\n",
       "      <td>Defect</td>\n",
       "    </tr>\n",
       "    <tr>\n",
       "      <th>135</th>\n",
       "      <td>Defect</td>\n",
       "      <td>Defect</td>\n",
       "      <td>No Defect</td>\n",
       "      <td>Defect</td>\n",
       "    </tr>\n",
       "    <tr>\n",
       "      <th>147</th>\n",
       "      <td>Defect</td>\n",
       "      <td>Defect</td>\n",
       "      <td>No Defect</td>\n",
       "      <td>Defect</td>\n",
       "    </tr>\n",
       "    <tr>\n",
       "      <th>163</th>\n",
       "      <td>Defect</td>\n",
       "      <td>Defect</td>\n",
       "      <td>Defect</td>\n",
       "      <td>Defect</td>\n",
       "    </tr>\n",
       "    <tr>\n",
       "      <th>194</th>\n",
       "      <td>Defect</td>\n",
       "      <td>Defect</td>\n",
       "      <td>No Defect</td>\n",
       "      <td>Defect</td>\n",
       "    </tr>\n",
       "    <tr>\n",
       "      <th>196</th>\n",
       "      <td>Defect</td>\n",
       "      <td>Defect</td>\n",
       "      <td>No Defect</td>\n",
       "      <td>No Defect</td>\n",
       "    </tr>\n",
       "  </tbody>\n",
       "</table>\n",
       "</div>"
      ],
      "text/plain": [
       "        actual  model1     model2     model3\n",
       "3    No Defect  Defect     Defect     Defect\n",
       "30      Defect  Defect  No Defect     Defect\n",
       "62   No Defect  Defect  No Defect  No Defect\n",
       "65      Defect  Defect     Defect     Defect\n",
       "70      Defect  Defect     Defect     Defect\n",
       "135     Defect  Defect  No Defect     Defect\n",
       "147     Defect  Defect  No Defect     Defect\n",
       "163     Defect  Defect     Defect     Defect\n",
       "194     Defect  Defect  No Defect     Defect\n",
       "196     Defect  Defect  No Defect  No Defect"
      ]
     },
     "execution_count": 10,
     "metadata": {},
     "output_type": "execute_result"
    }
   ],
   "source": [
    "# choose subset of model1 where we only select 'positive predictions'\n",
    "subset = cody_df[cody_df.model1=='Defect']\n",
    "subset"
   ]
  },
  {
   "cell_type": "code",
   "execution_count": 11,
   "id": "a372adea-543f-4be8-b350-b7c9f782f35c",
   "metadata": {},
   "outputs": [
    {
     "data": {
      "text/plain": [
       "0.8"
      ]
     },
     "execution_count": 11,
     "metadata": {},
     "output_type": "execute_result"
    }
   ],
   "source": [
    "#model1 precision\n",
    "model1_precision = (subset.actual == subset.model1).mean()\n",
    "model1_precision"
   ]
  },
  {
   "cell_type": "code",
   "execution_count": 12,
   "id": "aa2116fd-202a-4ab6-8dce-9330455f9667",
   "metadata": {},
   "outputs": [
    {
     "name": "stdout",
     "output_type": "stream",
     "text": [
      "Model 1 Precision: 80.00%\n",
      "Model 2 Precision: 10.00%\n",
      "Model 3 Precision: 13.13%\n",
      "\n"
     ]
    }
   ],
   "source": [
    "# choose subset for model2 where we only select 'positive predictions'\n",
    "subset2 = cody_df [cody_df.model2 == 'Defect']\n",
    "# calculate precision\n",
    "model2_precision = (subset2.actual == subset2.model2).mean()\n",
    "\n",
    "\n",
    "# choose subset for model3 where we only select 'positive predictions'\n",
    "subset3 = cody_df [cody_df.model3 == 'Defect']\n",
    "# calculate precision\n",
    "model3_precision = (subset3.actual == subset3.model3).mean()\n",
    "\n",
    "print(f\"\"\"Model 1 Precision: {model1_precision:.2%}\n",
    "Model 2 Precision: {model2_precision:.2%}\n",
    "Model 3 Precision: {model3_precision:.2%}\n",
    "\"\"\")"
   ]
  },
  {
   "cell_type": "markdown",
   "id": "1fb754ee-4310-47ac-abe2-b5acb5d684dc",
   "metadata": {},
   "source": [
    "<div class=\"alert alert-block alert-success\">\n",
    "    <b>Takeaways:</b>\n",
    "        <br>\n",
    "        <br>\n",
    "        Use model 1 since it will minimize the false positive predictions of defects\n",
    "        </div>"
   ]
  },
  {
   "cell_type": "code",
   "execution_count": null,
   "id": "535465e7-a50c-400d-a2f1-260dac7e548d",
   "metadata": {},
   "outputs": [],
   "source": []
  },
  {
   "cell_type": "markdown",
   "id": "2cae7da1-0bc8-4a0b-8c02-992f53adedff",
   "metadata": {},
   "source": [
    "# 4. You are working as a data scientist for Gives You Paws ™, a subscription based service that shows you cute pictures of dogs or cats *(or both for an additional fee)*.\n",
    "\n",
    "At Gives You Paws, anyone can upload pictures of their cats or dogs. The photos are then put through a two step process. \n",
    "- First an automated algorithm tags pictures as either a cat or a dog (Phase I). \n",
    "- Next, the photos that have been initially identified are put through another round of review, possibly with some human oversight, before being presented to the users (Phase II).\n",
    "\n",
    "Several models have already been developed with the data, and you can <a href = \"https://ds.codeup.com/data/gives_you_paws.csv\">find their results here</a>.\n",
    "\n",
    "Given this dataset, use pandas to create a baseline model (i.e. a model that just predicts the most common class) and answer the following questions:"
   ]
  },
  {
   "cell_type": "code",
   "execution_count": 13,
   "id": "52f52de3-4de8-4137-a36b-b6d0acda96b7",
   "metadata": {},
   "outputs": [],
   "source": [
    "paws_df = pd.read_csv('~/Downloads/gives_you_paws.csv')"
   ]
  },
  {
   "cell_type": "code",
   "execution_count": 14,
   "id": "d3192e37-1ffa-44a3-bbf0-bf707d49ac48",
   "metadata": {},
   "outputs": [
    {
     "data": {
      "text/html": [
       "<div>\n",
       "<style scoped>\n",
       "    .dataframe tbody tr th:only-of-type {\n",
       "        vertical-align: middle;\n",
       "    }\n",
       "\n",
       "    .dataframe tbody tr th {\n",
       "        vertical-align: top;\n",
       "    }\n",
       "\n",
       "    .dataframe thead th {\n",
       "        text-align: right;\n",
       "    }\n",
       "</style>\n",
       "<table border=\"1\" class=\"dataframe\">\n",
       "  <thead>\n",
       "    <tr style=\"text-align: right;\">\n",
       "      <th></th>\n",
       "      <th>actual</th>\n",
       "      <th>model1</th>\n",
       "      <th>model2</th>\n",
       "      <th>model3</th>\n",
       "      <th>model4</th>\n",
       "    </tr>\n",
       "  </thead>\n",
       "  <tbody>\n",
       "    <tr>\n",
       "      <th>0</th>\n",
       "      <td>cat</td>\n",
       "      <td>cat</td>\n",
       "      <td>dog</td>\n",
       "      <td>cat</td>\n",
       "      <td>dog</td>\n",
       "    </tr>\n",
       "    <tr>\n",
       "      <th>1</th>\n",
       "      <td>dog</td>\n",
       "      <td>dog</td>\n",
       "      <td>cat</td>\n",
       "      <td>cat</td>\n",
       "      <td>dog</td>\n",
       "    </tr>\n",
       "    <tr>\n",
       "      <th>2</th>\n",
       "      <td>dog</td>\n",
       "      <td>cat</td>\n",
       "      <td>cat</td>\n",
       "      <td>cat</td>\n",
       "      <td>dog</td>\n",
       "    </tr>\n",
       "    <tr>\n",
       "      <th>3</th>\n",
       "      <td>dog</td>\n",
       "      <td>dog</td>\n",
       "      <td>dog</td>\n",
       "      <td>cat</td>\n",
       "      <td>dog</td>\n",
       "    </tr>\n",
       "    <tr>\n",
       "      <th>4</th>\n",
       "      <td>cat</td>\n",
       "      <td>cat</td>\n",
       "      <td>cat</td>\n",
       "      <td>dog</td>\n",
       "      <td>dog</td>\n",
       "    </tr>\n",
       "  </tbody>\n",
       "</table>\n",
       "</div>"
      ],
      "text/plain": [
       "  actual model1 model2 model3 model4\n",
       "0    cat    cat    dog    cat    dog\n",
       "1    dog    dog    cat    cat    dog\n",
       "2    dog    cat    cat    cat    dog\n",
       "3    dog    dog    dog    cat    dog\n",
       "4    cat    cat    cat    dog    dog"
      ]
     },
     "execution_count": 14,
     "metadata": {},
     "output_type": "execute_result"
    }
   ],
   "source": [
    "paws_df.head()"
   ]
  },
  {
   "cell_type": "code",
   "execution_count": 15,
   "id": "dab9b28b-29fc-45e9-917d-39fe6fd77969",
   "metadata": {},
   "outputs": [
    {
     "name": "stdout",
     "output_type": "stream",
     "text": [
      "<class 'pandas.core.frame.DataFrame'>\n",
      "RangeIndex: 5000 entries, 0 to 4999\n",
      "Data columns (total 5 columns):\n",
      " #   Column  Non-Null Count  Dtype \n",
      "---  ------  --------------  ----- \n",
      " 0   actual  5000 non-null   object\n",
      " 1   model1  5000 non-null   object\n",
      " 2   model2  5000 non-null   object\n",
      " 3   model3  5000 non-null   object\n",
      " 4   model4  5000 non-null   object\n",
      "dtypes: object(5)\n",
      "memory usage: 195.4+ KB\n"
     ]
    }
   ],
   "source": [
    "paws_df.info()"
   ]
  },
  {
   "cell_type": "code",
   "execution_count": 16,
   "id": "3600dca6-d123-4859-a2fc-5d6ed3bc389a",
   "metadata": {},
   "outputs": [
    {
     "data": {
      "text/plain": [
       "dog    3254\n",
       "cat    1746\n",
       "Name: actual, dtype: int64"
      ]
     },
     "execution_count": 16,
     "metadata": {},
     "output_type": "execute_result"
    }
   ],
   "source": [
    "paws_df.actual.value_counts()"
   ]
  },
  {
   "cell_type": "code",
   "execution_count": 17,
   "id": "c732cc4e-1af8-4bc3-acd5-508db27be423",
   "metadata": {},
   "outputs": [
    {
     "data": {
      "text/plain": [
       "'dog'"
      ]
     },
     "execution_count": 17,
     "metadata": {},
     "output_type": "execute_result"
    }
   ],
   "source": [
    "paws_df.actual.value_counts().idxmax()"
   ]
  },
  {
   "cell_type": "code",
   "execution_count": 18,
   "id": "e4acffe2-1bc6-4cfe-aa1a-fc341c06bef5",
   "metadata": {},
   "outputs": [],
   "source": [
    "#set baseline\n",
    "paws_df['baseline']= paws_df.actual.value_counts().idxmax()"
   ]
  },
  {
   "cell_type": "code",
   "execution_count": 19,
   "id": "5184eab0-e242-4a92-b26e-f4e92241c239",
   "metadata": {},
   "outputs": [
    {
     "data": {
      "text/html": [
       "<div>\n",
       "<style scoped>\n",
       "    .dataframe tbody tr th:only-of-type {\n",
       "        vertical-align: middle;\n",
       "    }\n",
       "\n",
       "    .dataframe tbody tr th {\n",
       "        vertical-align: top;\n",
       "    }\n",
       "\n",
       "    .dataframe thead th {\n",
       "        text-align: right;\n",
       "    }\n",
       "</style>\n",
       "<table border=\"1\" class=\"dataframe\">\n",
       "  <thead>\n",
       "    <tr style=\"text-align: right;\">\n",
       "      <th></th>\n",
       "      <th>actual</th>\n",
       "      <th>model1</th>\n",
       "      <th>model2</th>\n",
       "      <th>model3</th>\n",
       "      <th>model4</th>\n",
       "      <th>baseline</th>\n",
       "    </tr>\n",
       "  </thead>\n",
       "  <tbody>\n",
       "    <tr>\n",
       "      <th>0</th>\n",
       "      <td>cat</td>\n",
       "      <td>cat</td>\n",
       "      <td>dog</td>\n",
       "      <td>cat</td>\n",
       "      <td>dog</td>\n",
       "      <td>dog</td>\n",
       "    </tr>\n",
       "    <tr>\n",
       "      <th>1</th>\n",
       "      <td>dog</td>\n",
       "      <td>dog</td>\n",
       "      <td>cat</td>\n",
       "      <td>cat</td>\n",
       "      <td>dog</td>\n",
       "      <td>dog</td>\n",
       "    </tr>\n",
       "    <tr>\n",
       "      <th>2</th>\n",
       "      <td>dog</td>\n",
       "      <td>cat</td>\n",
       "      <td>cat</td>\n",
       "      <td>cat</td>\n",
       "      <td>dog</td>\n",
       "      <td>dog</td>\n",
       "    </tr>\n",
       "    <tr>\n",
       "      <th>3</th>\n",
       "      <td>dog</td>\n",
       "      <td>dog</td>\n",
       "      <td>dog</td>\n",
       "      <td>cat</td>\n",
       "      <td>dog</td>\n",
       "      <td>dog</td>\n",
       "    </tr>\n",
       "    <tr>\n",
       "      <th>4</th>\n",
       "      <td>cat</td>\n",
       "      <td>cat</td>\n",
       "      <td>cat</td>\n",
       "      <td>dog</td>\n",
       "      <td>dog</td>\n",
       "      <td>dog</td>\n",
       "    </tr>\n",
       "  </tbody>\n",
       "</table>\n",
       "</div>"
      ],
      "text/plain": [
       "  actual model1 model2 model3 model4 baseline\n",
       "0    cat    cat    dog    cat    dog      dog\n",
       "1    dog    dog    cat    cat    dog      dog\n",
       "2    dog    cat    cat    cat    dog      dog\n",
       "3    dog    dog    dog    cat    dog      dog\n",
       "4    cat    cat    cat    dog    dog      dog"
      ]
     },
     "execution_count": 19,
     "metadata": {},
     "output_type": "execute_result"
    }
   ],
   "source": [
    "paws_df.head()"
   ]
  },
  {
   "cell_type": "code",
   "execution_count": null,
   "id": "aa6f6248-1f55-49af-8143-3d856f08e557",
   "metadata": {},
   "outputs": [],
   "source": []
  },
  {
   "cell_type": "markdown",
   "id": "6b4c5acd-d069-4a7a-bebf-e5e47ff2ee7a",
   "metadata": {},
   "source": [
    "## 4a. In terms of accuracy, how do the various models compare to the baseline model? Are any of the models better than the baseline?"
   ]
  },
  {
   "cell_type": "markdown",
   "id": "0a0f18be-398d-4571-8213-1f2801e9e758",
   "metadata": {},
   "source": [
    "- dog = positive class\n",
    "- cat = negative class"
   ]
  },
  {
   "cell_type": "code",
   "execution_count": 21,
   "id": "8c24e5d5-a6fc-48f6-80a6-c4ead5bb3d1e",
   "metadata": {},
   "outputs": [
    {
     "data": {
      "text/plain": [
       "0.6508"
      ]
     },
     "execution_count": 21,
     "metadata": {},
     "output_type": "execute_result"
    }
   ],
   "source": [
    "(paws_df.actual == paws_df.baseline).mean()"
   ]
  },
  {
   "cell_type": "code",
   "execution_count": 20,
   "id": "acc4b28f-3735-4343-8455-582b76ae3b8b",
   "metadata": {},
   "outputs": [
    {
     "data": {
      "text/plain": [
       "0.8074"
      ]
     },
     "execution_count": 20,
     "metadata": {},
     "output_type": "execute_result"
    }
   ],
   "source": [
    "(paws_df.actual == paws_df.model1).mean()"
   ]
  },
  {
   "cell_type": "code",
   "execution_count": 22,
   "id": "85ae03cb-d579-43c7-ad2f-9c7636133c8b",
   "metadata": {},
   "outputs": [
    {
     "data": {
      "text/plain": [
       "0.6304"
      ]
     },
     "execution_count": 22,
     "metadata": {},
     "output_type": "execute_result"
    }
   ],
   "source": [
    "(paws_df.actual == paws_df.model2).mean()"
   ]
  },
  {
   "cell_type": "code",
   "execution_count": 23,
   "id": "eaf3b3d2-7657-4a34-814b-5c54eb1c472b",
   "metadata": {},
   "outputs": [
    {
     "data": {
      "text/plain": [
       "0.5096"
      ]
     },
     "execution_count": 23,
     "metadata": {},
     "output_type": "execute_result"
    }
   ],
   "source": [
    "(paws_df.actual == paws_df.model3).mean()"
   ]
  },
  {
   "cell_type": "code",
   "execution_count": 24,
   "id": "7bd587ba-ed23-412b-9670-e615e0f1209a",
   "metadata": {},
   "outputs": [
    {
     "data": {
      "text/plain": [
       "0.7426"
      ]
     },
     "execution_count": 24,
     "metadata": {},
     "output_type": "execute_result"
    }
   ],
   "source": [
    "(paws_df.actual == paws_df.model4).mean()"
   ]
  },
  {
   "cell_type": "code",
   "execution_count": 25,
   "id": "3de8822d-89d0-4e86-babd-0baff8bd62e5",
   "metadata": {},
   "outputs": [
    {
     "data": {
      "text/plain": [
       "Index(['actual', 'model1', 'model2', 'model3', 'model4', 'baseline'], dtype='object')"
      ]
     },
     "execution_count": 25,
     "metadata": {},
     "output_type": "execute_result"
    }
   ],
   "source": [
    "paws_df.columns"
   ]
  },
  {
   "cell_type": "code",
   "execution_count": 26,
   "id": "e7b470c6-53f1-43ba-99cf-6bc40ef8c402",
   "metadata": {},
   "outputs": [
    {
     "name": "stdout",
     "output_type": "stream",
     "text": [
      "model1\n"
     ]
    }
   ],
   "source": [
    "print(paws_df.columns[1])"
   ]
  },
  {
   "cell_type": "code",
   "execution_count": 27,
   "id": "de545710-7b88-4c50-a645-b412ae759a1a",
   "metadata": {},
   "outputs": [
    {
     "data": {
      "text/plain": [
       "[['model1', 0.8074],\n",
       " ['model2', 0.6304],\n",
       " ['model3', 0.5096],\n",
       " ['model4', 0.7426],\n",
       " ['baseline', 0.6508]]"
      ]
     },
     "execution_count": 27,
     "metadata": {},
     "output_type": "execute_result"
    }
   ],
   "source": [
    "model_acc = []\n",
    "\n",
    "for model in paws_df.columns[1:]:\n",
    "    acc = (paws_df.actual == paws_df[model]).mean()\n",
    "    model_acc.append([model, acc])\n",
    "    \n",
    "model_acc"
   ]
  },
  {
   "cell_type": "code",
   "execution_count": 28,
   "id": "b4496565-b57a-4dfe-8934-600737f11a52",
   "metadata": {},
   "outputs": [
    {
     "data": {
      "text/html": [
       "<div>\n",
       "<style scoped>\n",
       "    .dataframe tbody tr th:only-of-type {\n",
       "        vertical-align: middle;\n",
       "    }\n",
       "\n",
       "    .dataframe tbody tr th {\n",
       "        vertical-align: top;\n",
       "    }\n",
       "\n",
       "    .dataframe thead th {\n",
       "        text-align: right;\n",
       "    }\n",
       "</style>\n",
       "<table border=\"1\" class=\"dataframe\">\n",
       "  <thead>\n",
       "    <tr style=\"text-align: right;\">\n",
       "      <th></th>\n",
       "      <th>model</th>\n",
       "      <th>accuracy</th>\n",
       "    </tr>\n",
       "  </thead>\n",
       "  <tbody>\n",
       "    <tr>\n",
       "      <th>0</th>\n",
       "      <td>model1</td>\n",
       "      <td>0.8074</td>\n",
       "    </tr>\n",
       "    <tr>\n",
       "      <th>1</th>\n",
       "      <td>model2</td>\n",
       "      <td>0.6304</td>\n",
       "    </tr>\n",
       "    <tr>\n",
       "      <th>2</th>\n",
       "      <td>model3</td>\n",
       "      <td>0.5096</td>\n",
       "    </tr>\n",
       "    <tr>\n",
       "      <th>3</th>\n",
       "      <td>model4</td>\n",
       "      <td>0.7426</td>\n",
       "    </tr>\n",
       "    <tr>\n",
       "      <th>4</th>\n",
       "      <td>baseline</td>\n",
       "      <td>0.6508</td>\n",
       "    </tr>\n",
       "  </tbody>\n",
       "</table>\n",
       "</div>"
      ],
      "text/plain": [
       "      model  accuracy\n",
       "0    model1    0.8074\n",
       "1    model2    0.6304\n",
       "2    model3    0.5096\n",
       "3    model4    0.7426\n",
       "4  baseline    0.6508"
      ]
     },
     "execution_count": 28,
     "metadata": {},
     "output_type": "execute_result"
    }
   ],
   "source": [
    "#convert to df\n",
    "\n",
    "pd.DataFrame(model_acc, columns=['model', 'accuracy'])"
   ]
  },
  {
   "cell_type": "markdown",
   "id": "70a940f1-923f-4223-9682-b9e1f56e0db1",
   "metadata": {},
   "source": [
    "<div class=\"alert alert-block alert-success\">\n",
    "    <b>Takeaways:</b>\n",
    "        <br>\n",
    "        <br>\n",
    "In terms of accuracy, model 1 and model 4 perform better than baseline\n",
    "</div>"
   ]
  },
  {
   "cell_type": "code",
   "execution_count": null,
   "id": "e45cb596-aa82-4a6c-afbe-5db0a84a24c0",
   "metadata": {},
   "outputs": [],
   "source": []
  },
  {
   "cell_type": "markdown",
   "id": "10806505-1834-43ac-abe3-1de7824bade0",
   "metadata": {},
   "source": [
    "## 4b. Suppose you are working on a team that solely deals with **dog pictures**. Which of these models would you recommend?"
   ]
  },
  {
   "cell_type": "markdown",
   "id": "8c839ef7-b812-4105-9d1c-14af5d6b3f86",
   "metadata": {},
   "source": [
    "- dog = positive class\n",
    "- cat = negative class\n",
    "\n",
    "<b>Phase I</b>: Automated algorithm tags pictures as either a cat or a dog\n",
    "<br>\n",
    "For Phase I, we should choose a model with highest Recall"
   ]
  },
  {
   "cell_type": "code",
   "execution_count": 29,
   "id": "259c2736-d401-4fc2-a0c9-c7fc0c5f8e22",
   "metadata": {},
   "outputs": [
    {
     "data": {
      "text/html": [
       "<div>\n",
       "<style scoped>\n",
       "    .dataframe tbody tr th:only-of-type {\n",
       "        vertical-align: middle;\n",
       "    }\n",
       "\n",
       "    .dataframe tbody tr th {\n",
       "        vertical-align: top;\n",
       "    }\n",
       "\n",
       "    .dataframe thead th {\n",
       "        text-align: right;\n",
       "    }\n",
       "</style>\n",
       "<table border=\"1\" class=\"dataframe\">\n",
       "  <thead>\n",
       "    <tr style=\"text-align: right;\">\n",
       "      <th></th>\n",
       "      <th>actual</th>\n",
       "      <th>model1</th>\n",
       "      <th>model2</th>\n",
       "      <th>model3</th>\n",
       "      <th>model4</th>\n",
       "      <th>baseline</th>\n",
       "    </tr>\n",
       "  </thead>\n",
       "  <tbody>\n",
       "    <tr>\n",
       "      <th>1</th>\n",
       "      <td>dog</td>\n",
       "      <td>dog</td>\n",
       "      <td>cat</td>\n",
       "      <td>cat</td>\n",
       "      <td>dog</td>\n",
       "      <td>dog</td>\n",
       "    </tr>\n",
       "    <tr>\n",
       "      <th>2</th>\n",
       "      <td>dog</td>\n",
       "      <td>cat</td>\n",
       "      <td>cat</td>\n",
       "      <td>cat</td>\n",
       "      <td>dog</td>\n",
       "      <td>dog</td>\n",
       "    </tr>\n",
       "    <tr>\n",
       "      <th>3</th>\n",
       "      <td>dog</td>\n",
       "      <td>dog</td>\n",
       "      <td>dog</td>\n",
       "      <td>cat</td>\n",
       "      <td>dog</td>\n",
       "      <td>dog</td>\n",
       "    </tr>\n",
       "    <tr>\n",
       "      <th>5</th>\n",
       "      <td>dog</td>\n",
       "      <td>dog</td>\n",
       "      <td>dog</td>\n",
       "      <td>dog</td>\n",
       "      <td>dog</td>\n",
       "      <td>dog</td>\n",
       "    </tr>\n",
       "    <tr>\n",
       "      <th>8</th>\n",
       "      <td>dog</td>\n",
       "      <td>dog</td>\n",
       "      <td>cat</td>\n",
       "      <td>dog</td>\n",
       "      <td>dog</td>\n",
       "      <td>dog</td>\n",
       "    </tr>\n",
       "  </tbody>\n",
       "</table>\n",
       "</div>"
      ],
      "text/plain": [
       "  actual model1 model2 model3 model4 baseline\n",
       "1    dog    dog    cat    cat    dog      dog\n",
       "2    dog    cat    cat    cat    dog      dog\n",
       "3    dog    dog    dog    cat    dog      dog\n",
       "5    dog    dog    dog    dog    dog      dog\n",
       "8    dog    dog    cat    dog    dog      dog"
      ]
     },
     "execution_count": 29,
     "metadata": {},
     "output_type": "execute_result"
    }
   ],
   "source": [
    "subset = paws_df[paws_df.actual == 'dog']\n",
    "\n",
    "subset.head()"
   ]
  },
  {
   "cell_type": "code",
   "execution_count": 30,
   "id": "d8741271-ba63-47d2-801d-b1d8906efc09",
   "metadata": {},
   "outputs": [
    {
     "data": {
      "text/plain": [
       "[['model1', 0.803318992009834],\n",
       " ['model2', 0.49078057775046097],\n",
       " ['model3', 0.5086047940995697],\n",
       " ['model4', 0.9557467732022127],\n",
       " ['baseline', 1.0]]"
      ]
     },
     "execution_count": 30,
     "metadata": {},
     "output_type": "execute_result"
    }
   ],
   "source": [
    "model_recall = []\n",
    "\n",
    "for model in subset.columns[1:]:\n",
    "    recall = (subset.actual == subset[model]).mean()\n",
    "    model_recall.append([model, recall])\n",
    "    \n",
    "model_recall"
   ]
  },
  {
   "cell_type": "markdown",
   "id": "113f5841-4f63-4a10-b288-128efbcb2d8b",
   "metadata": {},
   "source": [
    "<div class=\"alert alert-block alert-success\">\n",
    "    <b>Takeaways:</b>\n",
    "        <br>\n",
    "        <br>\n",
    "It appears that Model 4 is performing the best, with Recall of 0.96\n",
    "</div>"
   ]
  },
  {
   "cell_type": "code",
   "execution_count": null,
   "id": "496d96c0-cd06-41bd-85c2-baca35fc65dc",
   "metadata": {},
   "outputs": [],
   "source": []
  },
  {
   "cell_type": "markdown",
   "id": "94b27471-7411-4665-afcb-68683d38df9b",
   "metadata": {},
   "source": [
    "<b>Phase II</b>: Photos that have been initially identified are put through another round of review\n",
    "<br>\n",
    "People have a service to see dog pictures, so what do we want to minimize?\n",
    "- we want to minimize false positives\n",
    "<br>\n",
    "Precision is the appropriate metric since we are trying to minimize false positives"
   ]
  },
  {
   "cell_type": "code",
   "execution_count": 31,
   "id": "06f04cc0-9eb8-4817-8c10-a182e0bb652e",
   "metadata": {},
   "outputs": [
    {
     "data": {
      "text/html": [
       "<div>\n",
       "<style scoped>\n",
       "    .dataframe tbody tr th:only-of-type {\n",
       "        vertical-align: middle;\n",
       "    }\n",
       "\n",
       "    .dataframe tbody tr th {\n",
       "        vertical-align: top;\n",
       "    }\n",
       "\n",
       "    .dataframe thead th {\n",
       "        text-align: right;\n",
       "    }\n",
       "</style>\n",
       "<table border=\"1\" class=\"dataframe\">\n",
       "  <thead>\n",
       "    <tr style=\"text-align: right;\">\n",
       "      <th></th>\n",
       "      <th>actual</th>\n",
       "      <th>model1</th>\n",
       "      <th>model2</th>\n",
       "      <th>model3</th>\n",
       "      <th>model4</th>\n",
       "      <th>baseline</th>\n",
       "    </tr>\n",
       "  </thead>\n",
       "  <tbody>\n",
       "    <tr>\n",
       "      <th>0</th>\n",
       "      <td>cat</td>\n",
       "      <td>cat</td>\n",
       "      <td>dog</td>\n",
       "      <td>cat</td>\n",
       "      <td>dog</td>\n",
       "      <td>dog</td>\n",
       "    </tr>\n",
       "    <tr>\n",
       "      <th>1</th>\n",
       "      <td>dog</td>\n",
       "      <td>dog</td>\n",
       "      <td>cat</td>\n",
       "      <td>cat</td>\n",
       "      <td>dog</td>\n",
       "      <td>dog</td>\n",
       "    </tr>\n",
       "    <tr>\n",
       "      <th>2</th>\n",
       "      <td>dog</td>\n",
       "      <td>cat</td>\n",
       "      <td>cat</td>\n",
       "      <td>cat</td>\n",
       "      <td>dog</td>\n",
       "      <td>dog</td>\n",
       "    </tr>\n",
       "    <tr>\n",
       "      <th>3</th>\n",
       "      <td>dog</td>\n",
       "      <td>dog</td>\n",
       "      <td>dog</td>\n",
       "      <td>cat</td>\n",
       "      <td>dog</td>\n",
       "      <td>dog</td>\n",
       "    </tr>\n",
       "    <tr>\n",
       "      <th>4</th>\n",
       "      <td>cat</td>\n",
       "      <td>cat</td>\n",
       "      <td>cat</td>\n",
       "      <td>dog</td>\n",
       "      <td>dog</td>\n",
       "      <td>dog</td>\n",
       "    </tr>\n",
       "  </tbody>\n",
       "</table>\n",
       "</div>"
      ],
      "text/plain": [
       "  actual model1 model2 model3 model4 baseline\n",
       "0    cat    cat    dog    cat    dog      dog\n",
       "1    dog    dog    cat    cat    dog      dog\n",
       "2    dog    cat    cat    cat    dog      dog\n",
       "3    dog    dog    dog    cat    dog      dog\n",
       "4    cat    cat    cat    dog    dog      dog"
      ]
     },
     "execution_count": 31,
     "metadata": {},
     "output_type": "execute_result"
    }
   ],
   "source": [
    "paws_df.head()"
   ]
  },
  {
   "cell_type": "code",
   "execution_count": 32,
   "id": "9c04b0eb-b918-40f3-be04-a0f348a2df46",
   "metadata": {},
   "outputs": [],
   "source": [
    "subset1 = paws_df[paws_df.model1 == 'dog']\n",
    "subset2 = paws_df[paws_df.model2 == 'dog']\n",
    "subset3 = paws_df[paws_df.model3 == 'dog']\n",
    "subset4 = paws_df[paws_df.model4 == 'dog']"
   ]
  },
  {
   "cell_type": "code",
   "execution_count": 33,
   "id": "ef893abf-099f-4b7f-9790-0dc3f4e0b984",
   "metadata": {},
   "outputs": [
    {
     "data": {
      "text/plain": [
       "0.8900238338440586"
      ]
     },
     "execution_count": 33,
     "metadata": {},
     "output_type": "execute_result"
    }
   ],
   "source": [
    "(subset1.actual == subset1.model1).mean()"
   ]
  },
  {
   "cell_type": "code",
   "execution_count": 34,
   "id": "cc5b3c90-79db-4775-b3ca-99195aa531c4",
   "metadata": {},
   "outputs": [
    {
     "data": {
      "text/plain": [
       "0.8931767337807607"
      ]
     },
     "execution_count": 34,
     "metadata": {},
     "output_type": "execute_result"
    }
   ],
   "source": [
    "(subset2.actual == subset2.model2).mean()"
   ]
  },
  {
   "cell_type": "code",
   "execution_count": 35,
   "id": "3d9dff6e-5836-44c9-abc0-8ab47a51fc33",
   "metadata": {},
   "outputs": [
    {
     "data": {
      "text/plain": [
       "0.6598883572567783"
      ]
     },
     "execution_count": 35,
     "metadata": {},
     "output_type": "execute_result"
    }
   ],
   "source": [
    "(subset3.actual == subset3.model3).mean()"
   ]
  },
  {
   "cell_type": "code",
   "execution_count": 36,
   "id": "7ef528f9-4c65-48ac-aef9-48f19109efac",
   "metadata": {},
   "outputs": [
    {
     "data": {
      "text/plain": [
       "0.7312485304490948"
      ]
     },
     "execution_count": 36,
     "metadata": {},
     "output_type": "execute_result"
    }
   ],
   "source": [
    "(subset4.actual == subset4.model4).mean()"
   ]
  },
  {
   "cell_type": "markdown",
   "id": "9274da9d-adb7-4afc-85ac-5a854512275b",
   "metadata": {},
   "source": [
    "<div class=\"alert alert-block alert-success\">\n",
    "    <b>Takeaways:</b>\n",
    "        <br>\n",
    "        <br>\n",
    "It appears that Model 2 is performing best with Precision of 0.893\n",
    "</div>"
   ]
  },
  {
   "cell_type": "code",
   "execution_count": null,
   "id": "909883f7-4d8e-4926-9050-64a97cf3834a",
   "metadata": {},
   "outputs": [],
   "source": []
  },
  {
   "cell_type": "markdown",
   "id": "b5ca1a87-304c-4825-b3c6-1ce49f098577",
   "metadata": {},
   "source": [
    "## 4c. Suppose you are working on a team that solely deals with **cat pictures**. Which of these models would you recommend?    "
   ]
  },
  {
   "cell_type": "markdown",
   "id": "0ebb526f-f730-4633-9d99-f0cd28b19655",
   "metadata": {},
   "source": [
    "- cat = positive class\n",
    "- dog = negative class"
   ]
  },
  {
   "cell_type": "markdown",
   "id": "c5c7d009-271d-42f2-a775-21c3682a2892",
   "metadata": {},
   "source": [
    "Phase I: we would use recall again b'c we're working with the actual pictures.\n",
    "PHASE II: We want to minimize the false positives, therefore, we will use precision again."
   ]
  },
  {
   "cell_type": "code",
   "execution_count": 38,
   "id": "f1cccbfb-41e4-408d-9f23-bf660cd5d93a",
   "metadata": {},
   "outputs": [
    {
     "data": {
      "text/plain": [
       "[['model1', 0.6897721764420747],\n",
       " ['model2', 0.4841220423412204],\n",
       " ['model3', 0.358346709470305],\n",
       " ['model4', 0.8072289156626506],\n",
       " ['baseline', nan]]"
      ]
     },
     "execution_count": 38,
     "metadata": {},
     "output_type": "execute_result"
    }
   ],
   "source": [
    "#phaseII: precision\n",
    "\n",
    "model_prec = []\n",
    "\n",
    "for model in paws_df.columns[1:]:\n",
    "    subset = paws_df[paws_df[model] == 'cat']\n",
    "    \n",
    "    precision = (subset.actual == subset[model]).mean()\n",
    "    \n",
    "    model_prec.append([model, precision])\n",
    "    \n",
    "model_prec"
   ]
  },
  {
   "cell_type": "markdown",
   "id": "33361e6c-e071-4a83-aefa-ad24f3948757",
   "metadata": {},
   "source": [
    "<div class=\"alert alert-block alert-success\">\n",
    "    <b>Takeaway for Cat team:</b>\n",
    "        <br>\n",
    "        <br>\n",
    "-- we had to maximize precision to minimize the false positives\n",
    "<br>\n",
    "-- therefore, we should use model 4\n",
    "        </div>"
   ]
  },
  {
   "cell_type": "markdown",
   "id": "f7b9585a-f595-4633-b519-d4d077b40aaf",
   "metadata": {},
   "source": [
    "# 5. Follow the links below to read the documentation about each function, then apply those functions to the data from the previous problem .\n",
    "\n",
    "- <a href = \"https://scikit-learn.org/stable/modules/generated/sklearn.metrics.accuracy_score.html\">`sklearn.metrics.accuracy_score`</a>\n",
    "- <a href = \"https://scikit-learn.org/stable/modules/generated/sklearn.metrics.precision_score.html\">`sklearn.metrics.precision_score`</a>\n",
    "- <a href = \"https://scikit-learn.org/stable/modules/generated/sklearn.metrics.recall_score.html\">`sklearn.metrics.recall_score`</a>\n",
    "- <a href = \"https://scikit-learn.org/stable/modules/generated/sklearn.metrics.classification_report.html\">`sklearn.metrics.classification_report`</a>"
   ]
  },
  {
   "cell_type": "code",
   "execution_count": 39,
   "id": "d70f0f6b-dd32-43d9-8ff0-29cd7a1dd5b3",
   "metadata": {},
   "outputs": [],
   "source": [
    "from sklearn.metrics import classification_report"
   ]
  },
  {
   "cell_type": "code",
   "execution_count": 41,
   "id": "86c1c871-3dce-44dc-9c38-8f9fdfb6973f",
   "metadata": {},
   "outputs": [
    {
     "name": "stdout",
     "output_type": "stream",
     "text": [
      "Model 1\n"
     ]
    },
    {
     "data": {
      "text/html": [
       "<div>\n",
       "<style scoped>\n",
       "    .dataframe tbody tr th:only-of-type {\n",
       "        vertical-align: middle;\n",
       "    }\n",
       "\n",
       "    .dataframe tbody tr th {\n",
       "        vertical-align: top;\n",
       "    }\n",
       "\n",
       "    .dataframe thead th {\n",
       "        text-align: right;\n",
       "    }\n",
       "</style>\n",
       "<table border=\"1\" class=\"dataframe\">\n",
       "  <thead>\n",
       "    <tr style=\"text-align: right;\">\n",
       "      <th></th>\n",
       "      <th>precision</th>\n",
       "      <th>recall</th>\n",
       "      <th>f1-score</th>\n",
       "      <th>support</th>\n",
       "    </tr>\n",
       "  </thead>\n",
       "  <tbody>\n",
       "    <tr>\n",
       "      <th>cat</th>\n",
       "      <td>0.689772</td>\n",
       "      <td>0.815006</td>\n",
       "      <td>0.747178</td>\n",
       "      <td>1746.0000</td>\n",
       "    </tr>\n",
       "    <tr>\n",
       "      <th>dog</th>\n",
       "      <td>0.890024</td>\n",
       "      <td>0.803319</td>\n",
       "      <td>0.844452</td>\n",
       "      <td>3254.0000</td>\n",
       "    </tr>\n",
       "    <tr>\n",
       "      <th>accuracy</th>\n",
       "      <td>0.807400</td>\n",
       "      <td>0.807400</td>\n",
       "      <td>0.807400</td>\n",
       "      <td>0.8074</td>\n",
       "    </tr>\n",
       "    <tr>\n",
       "      <th>macro avg</th>\n",
       "      <td>0.789898</td>\n",
       "      <td>0.809162</td>\n",
       "      <td>0.795815</td>\n",
       "      <td>5000.0000</td>\n",
       "    </tr>\n",
       "    <tr>\n",
       "      <th>weighted avg</th>\n",
       "      <td>0.820096</td>\n",
       "      <td>0.807400</td>\n",
       "      <td>0.810484</td>\n",
       "      <td>5000.0000</td>\n",
       "    </tr>\n",
       "  </tbody>\n",
       "</table>\n",
       "</div>"
      ],
      "text/plain": [
       "              precision    recall  f1-score    support\n",
       "cat            0.689772  0.815006  0.747178  1746.0000\n",
       "dog            0.890024  0.803319  0.844452  3254.0000\n",
       "accuracy       0.807400  0.807400  0.807400     0.8074\n",
       "macro avg      0.789898  0.809162  0.795815  5000.0000\n",
       "weighted avg   0.820096  0.807400  0.810484  5000.0000"
      ]
     },
     "execution_count": 41,
     "metadata": {},
     "output_type": "execute_result"
    }
   ],
   "source": [
    "print(\"Model 1\")\n",
    "\n",
    "pd.DataFrame(classification_report(paws_df.actual, paws_df.model1,\n",
    "                                  labels =['cat','dog'],\n",
    "                                  output_dict=True)).T"
   ]
  },
  {
   "cell_type": "code",
   "execution_count": 42,
   "id": "0311603c-cd8d-4ac1-9599-f020fe95fab1",
   "metadata": {},
   "outputs": [
    {
     "name": "stdout",
     "output_type": "stream",
     "text": [
      "Model 2\n"
     ]
    },
    {
     "data": {
      "text/html": [
       "<div>\n",
       "<style scoped>\n",
       "    .dataframe tbody tr th:only-of-type {\n",
       "        vertical-align: middle;\n",
       "    }\n",
       "\n",
       "    .dataframe tbody tr th {\n",
       "        vertical-align: top;\n",
       "    }\n",
       "\n",
       "    .dataframe thead th {\n",
       "        text-align: right;\n",
       "    }\n",
       "</style>\n",
       "<table border=\"1\" class=\"dataframe\">\n",
       "  <thead>\n",
       "    <tr style=\"text-align: right;\">\n",
       "      <th></th>\n",
       "      <th>precision</th>\n",
       "      <th>recall</th>\n",
       "      <th>f1-score</th>\n",
       "      <th>support</th>\n",
       "    </tr>\n",
       "  </thead>\n",
       "  <tbody>\n",
       "    <tr>\n",
       "      <th>cat</th>\n",
       "      <td>0.484122</td>\n",
       "      <td>0.890607</td>\n",
       "      <td>0.627269</td>\n",
       "      <td>1746.0000</td>\n",
       "    </tr>\n",
       "    <tr>\n",
       "      <th>dog</th>\n",
       "      <td>0.893177</td>\n",
       "      <td>0.490781</td>\n",
       "      <td>0.633479</td>\n",
       "      <td>3254.0000</td>\n",
       "    </tr>\n",
       "    <tr>\n",
       "      <th>accuracy</th>\n",
       "      <td>0.630400</td>\n",
       "      <td>0.630400</td>\n",
       "      <td>0.630400</td>\n",
       "      <td>0.6304</td>\n",
       "    </tr>\n",
       "    <tr>\n",
       "      <th>macro avg</th>\n",
       "      <td>0.688649</td>\n",
       "      <td>0.690694</td>\n",
       "      <td>0.630374</td>\n",
       "      <td>5000.0000</td>\n",
       "    </tr>\n",
       "    <tr>\n",
       "      <th>weighted avg</th>\n",
       "      <td>0.750335</td>\n",
       "      <td>0.630400</td>\n",
       "      <td>0.631310</td>\n",
       "      <td>5000.0000</td>\n",
       "    </tr>\n",
       "  </tbody>\n",
       "</table>\n",
       "</div>"
      ],
      "text/plain": [
       "              precision    recall  f1-score    support\n",
       "cat            0.484122  0.890607  0.627269  1746.0000\n",
       "dog            0.893177  0.490781  0.633479  3254.0000\n",
       "accuracy       0.630400  0.630400  0.630400     0.6304\n",
       "macro avg      0.688649  0.690694  0.630374  5000.0000\n",
       "weighted avg   0.750335  0.630400  0.631310  5000.0000"
      ]
     },
     "execution_count": 42,
     "metadata": {},
     "output_type": "execute_result"
    }
   ],
   "source": [
    "print(\"Model 2\")\n",
    "\n",
    "pd.DataFrame(classification_report(paws_df.actual, paws_df.model2,\n",
    "                                  labels =['cat','dog'],\n",
    "                                  output_dict=True)).T"
   ]
  },
  {
   "cell_type": "code",
   "execution_count": 43,
   "id": "ce45c36b-9813-49c1-a57d-feaad09bc6b2",
   "metadata": {},
   "outputs": [
    {
     "name": "stdout",
     "output_type": "stream",
     "text": [
      "Model 3\n"
     ]
    },
    {
     "data": {
      "text/html": [
       "<div>\n",
       "<style scoped>\n",
       "    .dataframe tbody tr th:only-of-type {\n",
       "        vertical-align: middle;\n",
       "    }\n",
       "\n",
       "    .dataframe tbody tr th {\n",
       "        vertical-align: top;\n",
       "    }\n",
       "\n",
       "    .dataframe thead th {\n",
       "        text-align: right;\n",
       "    }\n",
       "</style>\n",
       "<table border=\"1\" class=\"dataframe\">\n",
       "  <thead>\n",
       "    <tr style=\"text-align: right;\">\n",
       "      <th></th>\n",
       "      <th>precision</th>\n",
       "      <th>recall</th>\n",
       "      <th>f1-score</th>\n",
       "      <th>support</th>\n",
       "    </tr>\n",
       "  </thead>\n",
       "  <tbody>\n",
       "    <tr>\n",
       "      <th>cat</th>\n",
       "      <td>0.358347</td>\n",
       "      <td>0.511455</td>\n",
       "      <td>0.421425</td>\n",
       "      <td>1746.0000</td>\n",
       "    </tr>\n",
       "    <tr>\n",
       "      <th>dog</th>\n",
       "      <td>0.659888</td>\n",
       "      <td>0.508605</td>\n",
       "      <td>0.574453</td>\n",
       "      <td>3254.0000</td>\n",
       "    </tr>\n",
       "    <tr>\n",
       "      <th>accuracy</th>\n",
       "      <td>0.509600</td>\n",
       "      <td>0.509600</td>\n",
       "      <td>0.509600</td>\n",
       "      <td>0.5096</td>\n",
       "    </tr>\n",
       "    <tr>\n",
       "      <th>macro avg</th>\n",
       "      <td>0.509118</td>\n",
       "      <td>0.510030</td>\n",
       "      <td>0.497939</td>\n",
       "      <td>5000.0000</td>\n",
       "    </tr>\n",
       "    <tr>\n",
       "      <th>weighted avg</th>\n",
       "      <td>0.554590</td>\n",
       "      <td>0.509600</td>\n",
       "      <td>0.521016</td>\n",
       "      <td>5000.0000</td>\n",
       "    </tr>\n",
       "  </tbody>\n",
       "</table>\n",
       "</div>"
      ],
      "text/plain": [
       "              precision    recall  f1-score    support\n",
       "cat            0.358347  0.511455  0.421425  1746.0000\n",
       "dog            0.659888  0.508605  0.574453  3254.0000\n",
       "accuracy       0.509600  0.509600  0.509600     0.5096\n",
       "macro avg      0.509118  0.510030  0.497939  5000.0000\n",
       "weighted avg   0.554590  0.509600  0.521016  5000.0000"
      ]
     },
     "execution_count": 43,
     "metadata": {},
     "output_type": "execute_result"
    }
   ],
   "source": [
    "print(\"Model 3\")\n",
    "\n",
    "pd.DataFrame(classification_report(paws_df.actual, paws_df.model3,\n",
    "                                  labels =['cat','dog'],\n",
    "                                  output_dict=True)).T"
   ]
  },
  {
   "cell_type": "code",
   "execution_count": 44,
   "id": "72fb18b6-fff0-46f1-a078-97fd7b368f85",
   "metadata": {},
   "outputs": [
    {
     "name": "stdout",
     "output_type": "stream",
     "text": [
      "Model 4\n"
     ]
    },
    {
     "data": {
      "text/html": [
       "<div>\n",
       "<style scoped>\n",
       "    .dataframe tbody tr th:only-of-type {\n",
       "        vertical-align: middle;\n",
       "    }\n",
       "\n",
       "    .dataframe tbody tr th {\n",
       "        vertical-align: top;\n",
       "    }\n",
       "\n",
       "    .dataframe thead th {\n",
       "        text-align: right;\n",
       "    }\n",
       "</style>\n",
       "<table border=\"1\" class=\"dataframe\">\n",
       "  <thead>\n",
       "    <tr style=\"text-align: right;\">\n",
       "      <th></th>\n",
       "      <th>precision</th>\n",
       "      <th>recall</th>\n",
       "      <th>f1-score</th>\n",
       "      <th>support</th>\n",
       "    </tr>\n",
       "  </thead>\n",
       "  <tbody>\n",
       "    <tr>\n",
       "      <th>cat</th>\n",
       "      <td>0.807229</td>\n",
       "      <td>0.345361</td>\n",
       "      <td>0.483755</td>\n",
       "      <td>1746.0000</td>\n",
       "    </tr>\n",
       "    <tr>\n",
       "      <th>dog</th>\n",
       "      <td>0.731249</td>\n",
       "      <td>0.955747</td>\n",
       "      <td>0.828560</td>\n",
       "      <td>3254.0000</td>\n",
       "    </tr>\n",
       "    <tr>\n",
       "      <th>accuracy</th>\n",
       "      <td>0.742600</td>\n",
       "      <td>0.742600</td>\n",
       "      <td>0.742600</td>\n",
       "      <td>0.7426</td>\n",
       "    </tr>\n",
       "    <tr>\n",
       "      <th>macro avg</th>\n",
       "      <td>0.769239</td>\n",
       "      <td>0.650554</td>\n",
       "      <td>0.656157</td>\n",
       "      <td>5000.0000</td>\n",
       "    </tr>\n",
       "    <tr>\n",
       "      <th>weighted avg</th>\n",
       "      <td>0.757781</td>\n",
       "      <td>0.742600</td>\n",
       "      <td>0.708154</td>\n",
       "      <td>5000.0000</td>\n",
       "    </tr>\n",
       "  </tbody>\n",
       "</table>\n",
       "</div>"
      ],
      "text/plain": [
       "              precision    recall  f1-score    support\n",
       "cat            0.807229  0.345361  0.483755  1746.0000\n",
       "dog            0.731249  0.955747  0.828560  3254.0000\n",
       "accuracy       0.742600  0.742600  0.742600     0.7426\n",
       "macro avg      0.769239  0.650554  0.656157  5000.0000\n",
       "weighted avg   0.757781  0.742600  0.708154  5000.0000"
      ]
     },
     "execution_count": 44,
     "metadata": {},
     "output_type": "execute_result"
    }
   ],
   "source": [
    "print(\"Model 4\")\n",
    "\n",
    "pd.DataFrame(classification_report(paws_df.actual, paws_df.model4,\n",
    "                                  labels =['cat','dog'],\n",
    "                                  output_dict=True)).T"
   ]
  },
  {
   "cell_type": "code",
   "execution_count": 45,
   "id": "31cbb7fd-4c46-48e8-9eee-e4556937000c",
   "metadata": {},
   "outputs": [],
   "source": [
    "from sklearn.metrics import precision_score, recall_score"
   ]
  },
  {
   "cell_type": "code",
   "execution_count": 47,
   "id": "e795ce22-d485-4bba-9434-1d55287d58f6",
   "metadata": {},
   "outputs": [],
   "source": [
    "def calculate_precision(predictions, positive='dog'):\n",
    "    \"\"\"\n",
    "    This function will: \n",
    "    - take in a model prediction \n",
    "    - defaulted pos class is dog\n",
    "    - output the precision score\n",
    "    \"\"\"\n",
    "    return precision_score(paws_df.actual, predictions, pos_label=positive)"
   ]
  },
  {
   "cell_type": "code",
   "execution_count": 48,
   "id": "86db331a-3778-4cda-a245-54d9263e4c7a",
   "metadata": {},
   "outputs": [],
   "source": [
    "def calculate_recall(predictions, positive='dog'):\n",
    "    \"\"\"\n",
    "    This function will: \n",
    "    - take in a model prediction \n",
    "    - defaulted pos class is dog\n",
    "    - output the recall score\n",
    "    \"\"\"\n",
    "    return recall_score(paws_df.actual, predictions, pos_label=positive)"
   ]
  },
  {
   "cell_type": "code",
   "execution_count": 49,
   "id": "7143651d-d2a6-47ce-af86-fab0a1ba2dd1",
   "metadata": {},
   "outputs": [
    {
     "data": {
      "text/html": [
       "<div>\n",
       "<style scoped>\n",
       "    .dataframe tbody tr th:only-of-type {\n",
       "        vertical-align: middle;\n",
       "    }\n",
       "\n",
       "    .dataframe tbody tr th {\n",
       "        vertical-align: top;\n",
       "    }\n",
       "\n",
       "    .dataframe thead th {\n",
       "        text-align: right;\n",
       "    }\n",
       "</style>\n",
       "<table border=\"1\" class=\"dataframe\">\n",
       "  <thead>\n",
       "    <tr style=\"text-align: right;\">\n",
       "      <th></th>\n",
       "      <th>recall</th>\n",
       "      <th>precision</th>\n",
       "    </tr>\n",
       "  </thead>\n",
       "  <tbody>\n",
       "    <tr>\n",
       "      <th>model1</th>\n",
       "      <td>0.803319</td>\n",
       "      <td>0.890024</td>\n",
       "    </tr>\n",
       "    <tr>\n",
       "      <th>model2</th>\n",
       "      <td>0.490781</td>\n",
       "      <td>0.893177</td>\n",
       "    </tr>\n",
       "    <tr>\n",
       "      <th>model3</th>\n",
       "      <td>0.508605</td>\n",
       "      <td>0.659888</td>\n",
       "    </tr>\n",
       "    <tr>\n",
       "      <th>model4</th>\n",
       "      <td>0.955747</td>\n",
       "      <td>0.731249</td>\n",
       "    </tr>\n",
       "    <tr>\n",
       "      <th>baseline</th>\n",
       "      <td>1.000000</td>\n",
       "      <td>0.650800</td>\n",
       "    </tr>\n",
       "  </tbody>\n",
       "</table>\n",
       "</div>"
      ],
      "text/plain": [
       "            recall  precision\n",
       "model1    0.803319   0.890024\n",
       "model2    0.490781   0.893177\n",
       "model3    0.508605   0.659888\n",
       "model4    0.955747   0.731249\n",
       "baseline  1.000000   0.650800"
      ]
     },
     "execution_count": 49,
     "metadata": {},
     "output_type": "execute_result"
    }
   ],
   "source": [
    "pd.concat([\n",
    "    paws_df.loc[:, 'model1':'baseline'].apply(calculate_recall).rename('recall'),\n",
    "    paws_df.loc[:, 'model1':'baseline'].apply(calculate_precision).rename('precision'),\n",
    "], axis=1)"
   ]
  },
  {
   "cell_type": "code",
   "execution_count": null,
   "id": "ef420fbb-8faf-4726-b7c0-c1425dc2b4db",
   "metadata": {},
   "outputs": [],
   "source": []
  }
 ],
 "metadata": {
  "kernelspec": {
   "display_name": "Python 3 (ipykernel)",
   "language": "python",
   "name": "python3"
  },
  "language_info": {
   "codemirror_mode": {
    "name": "ipython",
    "version": 3
   },
   "file_extension": ".py",
   "mimetype": "text/x-python",
   "name": "python",
   "nbconvert_exporter": "python",
   "pygments_lexer": "ipython3",
   "version": "3.9.13"
  }
 },
 "nbformat": 4,
 "nbformat_minor": 5
}
